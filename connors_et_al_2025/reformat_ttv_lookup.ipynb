{
 "cells": [
  {
   "cell_type": "markdown",
   "id": "4d96a96c-0f9d-4ae8-a9e7-71e439aa502f",
   "metadata": {},
   "source": [
    "## Converting table from Agol et al 2024 to a format readable by Erebus https://arxiv.org/abs/2409.11620"
   ]
  },
  {
   "cell_type": "code",
   "execution_count": 1,
   "id": "13710e57-966d-4248-96cf-c6a641d82957",
   "metadata": {},
   "outputs": [
    {
     "name": "stdout",
     "output_type": "stream",
     "text": [
      "   number  epoch        tfore         tlin       ttv   e_tfore\n",
      "0     1.0    0.0  7259.061228  7259.065898 -0.004648  0.000220\n",
      "1     1.0    1.0  7260.572632  7260.576771 -0.004108  0.000235\n",
      "2     1.0    2.0  7262.083427  7262.087645 -0.004188  0.000231\n",
      "3     1.0    3.0  7263.594084  7263.598519 -0.004407  0.000222\n",
      "4     1.0    4.0  7265.104970  7265.109393 -0.004400  0.000219\n",
      "      number  epoch        tfore         tlin       ttv   e_tfore\n",
      "2886     2.0    0.0  7258.587554  7258.585295  0.002210  0.000307\n",
      "2887     2.0    1.0  7261.008749  7261.007106  0.001576  0.000321\n",
      "2888     2.0    2.0  7263.430633  7263.428917  0.001654  0.000313\n",
      "2889     2.0    3.0  7265.852551  7265.850727  0.001772  0.000308\n",
      "2890     2.0    4.0  7268.274797  7268.272538  0.002220  0.000301\n"
     ]
    }
   ],
   "source": [
    "import numpy as np\n",
    "import pandas as pd\n",
    "\n",
    "# Fixed width of each column\n",
    "colspecs = [\n",
    "    (0, 3),    # number\n",
    "    (4, 10),   # epoch \n",
    "    (11, 25),  # tfore \n",
    "    (26, 40),  # tlin \n",
    "    (41, 52),  # ttv \n",
    "    (53, 63),  # e_tfore \n",
    "]\n",
    "\n",
    "column_names = [\"number\", \"epoch\", \"tfore\", \"tlin\", \"ttv\", \"e_tfore\"]\n",
    "df = pd.read_fwf(\"dbf1.txt\", colspecs=colspecs, names=column_names, skiprows=28)\n",
    "\n",
    "def save_csv(number, file_name):\n",
    "\tsub_df = df[df['number'] == number]\n",
    "\tprint(sub_df.head())\n",
    "\t\n",
    "\ttransits = sub_df['tfore'].to_numpy()\n",
    "\terrors = sub_df['e_tfore'].to_numpy()\n",
    "\tarray = np.column_stack((transits, errors))\n",
    "\t\n",
    "\tnp.savetxt(file_name + \".csv\", array, delimiter=\",\")\n",
    "\n",
    "save_csv(1.0, \"trappist1b_t0\")\n",
    "save_csv(2.0, \"trappist1c_t0\")"
   ]
  },
  {
   "cell_type": "markdown",
   "id": "d45274fc-be88-44ff-9970-82e5b2c394e0",
   "metadata": {},
   "source": [
    "## Converting table from Greklek-McKeon et al 2025 to a format readable by Erebus https://arxiv.org/abs/2501.18700"
   ]
  },
  {
   "cell_type": "code",
   "execution_count": 13,
   "id": "e1588a6b-1115-475c-9739-f684d23ab9f1",
   "metadata": {},
   "outputs": [
    {
     "name": "stdout",
     "output_type": "stream",
     "text": [
      "   LP 791-18 d  0  6.37890  0.00038  0.00037\n",
      "0  LP 791-18 d  1   9.1314  0.00031  0.00030\n",
      "1  LP 791-18 d  2  11.8842  0.00026  0.00026\n",
      "2  LP 791-18 d  3  14.6374  0.00023  0.00023\n",
      "3  LP 791-18 d  4  17.3907  0.00021  0.00020\n",
      "4  LP 791-18 d  5  20.1459  0.00038  0.00039\n"
     ]
    },
    {
     "ename": "InvalidIndexError",
     "evalue": "(slice(None, None, None), 1)",
     "output_type": "error",
     "traceback": [
      "\u001b[0;31m---------------------------------------------------------------------------\u001b[0m",
      "\u001b[0;31mTypeError\u001b[0m                                 Traceback (most recent call last)",
      "File \u001b[0;32m~/miniconda3/envs/env/lib/python3.10/site-packages/pandas/core/indexes/base.py:3652\u001b[0m, in \u001b[0;36mIndex.get_loc\u001b[0;34m(self, key)\u001b[0m\n\u001b[1;32m   3651\u001b[0m \u001b[38;5;28;01mtry\u001b[39;00m:\n\u001b[0;32m-> 3652\u001b[0m     \u001b[38;5;28;01mreturn\u001b[39;00m \u001b[38;5;28;43mself\u001b[39;49m\u001b[38;5;241;43m.\u001b[39;49m\u001b[43m_engine\u001b[49m\u001b[38;5;241;43m.\u001b[39;49m\u001b[43mget_loc\u001b[49m\u001b[43m(\u001b[49m\u001b[43mcasted_key\u001b[49m\u001b[43m)\u001b[49m\n\u001b[1;32m   3653\u001b[0m \u001b[38;5;28;01mexcept\u001b[39;00m \u001b[38;5;167;01mKeyError\u001b[39;00m \u001b[38;5;28;01mas\u001b[39;00m err:\n",
      "File \u001b[0;32m~/miniconda3/envs/env/lib/python3.10/site-packages/pandas/_libs/index.pyx:147\u001b[0m, in \u001b[0;36mpandas._libs.index.IndexEngine.get_loc\u001b[0;34m()\u001b[0m\n",
      "File \u001b[0;32m~/miniconda3/envs/env/lib/python3.10/site-packages/pandas/_libs/index.pyx:153\u001b[0m, in \u001b[0;36mpandas._libs.index.IndexEngine.get_loc\u001b[0;34m()\u001b[0m\n",
      "\u001b[0;31mTypeError\u001b[0m: '(slice(None, None, None), 1)' is an invalid key",
      "\nDuring handling of the above exception, another exception occurred:\n",
      "\u001b[0;31mInvalidIndexError\u001b[0m                         Traceback (most recent call last)",
      "Cell \u001b[0;32mIn[13], line 8\u001b[0m\n\u001b[1;32m      2\u001b[0m lp791 \u001b[38;5;241m=\u001b[39m pd\u001b[38;5;241m.\u001b[39mread_csv(\u001b[38;5;124m\"\u001b[39m\u001b[38;5;124m./LP791_future_transit_table_damped.csv\u001b[39m\u001b[38;5;124m\"\u001b[39m, skiprows\u001b[38;5;241m=\u001b[39m\u001b[38;5;241m1\u001b[39m)\n\u001b[1;32m      3\u001b[0m \u001b[38;5;28mprint\u001b[39m(lp791\u001b[38;5;241m.\u001b[39mhead())\n\u001b[0;32m----> 8\u001b[0m transits \u001b[38;5;241m=\u001b[39m \u001b[43mlp791\u001b[49m\u001b[43m[\u001b[49m\u001b[43m:\u001b[49m\u001b[43m,\u001b[49m\u001b[38;5;241;43m1\u001b[39;49m\u001b[43m]\u001b[49m \u001b[38;5;241m+\u001b[39m \u001b[38;5;241m2458540\u001b[39m \u001b[38;5;241m-\u001b[39m \u001b[38;5;241m2450000\u001b[39m\n\u001b[1;32m      9\u001b[0m upper_error \u001b[38;5;241m=\u001b[39m lp791[:,\u001b[38;5;241m2\u001b[39m]\n\u001b[1;32m     10\u001b[0m lower_error \u001b[38;5;241m=\u001b[39m lp791[:,\u001b[38;5;241m3\u001b[39m]\n",
      "File \u001b[0;32m~/miniconda3/envs/env/lib/python3.10/site-packages/pandas/core/frame.py:3760\u001b[0m, in \u001b[0;36mDataFrame.__getitem__\u001b[0;34m(self, key)\u001b[0m\n\u001b[1;32m   3758\u001b[0m \u001b[38;5;28;01mif\u001b[39;00m \u001b[38;5;28mself\u001b[39m\u001b[38;5;241m.\u001b[39mcolumns\u001b[38;5;241m.\u001b[39mnlevels \u001b[38;5;241m>\u001b[39m \u001b[38;5;241m1\u001b[39m:\n\u001b[1;32m   3759\u001b[0m     \u001b[38;5;28;01mreturn\u001b[39;00m \u001b[38;5;28mself\u001b[39m\u001b[38;5;241m.\u001b[39m_getitem_multilevel(key)\n\u001b[0;32m-> 3760\u001b[0m indexer \u001b[38;5;241m=\u001b[39m \u001b[38;5;28;43mself\u001b[39;49m\u001b[38;5;241;43m.\u001b[39;49m\u001b[43mcolumns\u001b[49m\u001b[38;5;241;43m.\u001b[39;49m\u001b[43mget_loc\u001b[49m\u001b[43m(\u001b[49m\u001b[43mkey\u001b[49m\u001b[43m)\u001b[49m\n\u001b[1;32m   3761\u001b[0m \u001b[38;5;28;01mif\u001b[39;00m is_integer(indexer):\n\u001b[1;32m   3762\u001b[0m     indexer \u001b[38;5;241m=\u001b[39m [indexer]\n",
      "File \u001b[0;32m~/miniconda3/envs/env/lib/python3.10/site-packages/pandas/core/indexes/base.py:3659\u001b[0m, in \u001b[0;36mIndex.get_loc\u001b[0;34m(self, key)\u001b[0m\n\u001b[1;32m   3654\u001b[0m     \u001b[38;5;28;01mraise\u001b[39;00m \u001b[38;5;167;01mKeyError\u001b[39;00m(key) \u001b[38;5;28;01mfrom\u001b[39;00m\u001b[38;5;250m \u001b[39m\u001b[38;5;21;01merr\u001b[39;00m\n\u001b[1;32m   3655\u001b[0m \u001b[38;5;28;01mexcept\u001b[39;00m \u001b[38;5;167;01mTypeError\u001b[39;00m:\n\u001b[1;32m   3656\u001b[0m     \u001b[38;5;66;03m# If we have a listlike key, _check_indexing_error will raise\u001b[39;00m\n\u001b[1;32m   3657\u001b[0m     \u001b[38;5;66;03m#  InvalidIndexError. Otherwise we fall through and re-raise\u001b[39;00m\n\u001b[1;32m   3658\u001b[0m     \u001b[38;5;66;03m#  the TypeError.\u001b[39;00m\n\u001b[0;32m-> 3659\u001b[0m     \u001b[38;5;28;43mself\u001b[39;49m\u001b[38;5;241;43m.\u001b[39;49m\u001b[43m_check_indexing_error\u001b[49m\u001b[43m(\u001b[49m\u001b[43mkey\u001b[49m\u001b[43m)\u001b[49m\n\u001b[1;32m   3660\u001b[0m     \u001b[38;5;28;01mraise\u001b[39;00m\n",
      "File \u001b[0;32m~/miniconda3/envs/env/lib/python3.10/site-packages/pandas/core/indexes/base.py:5736\u001b[0m, in \u001b[0;36mIndex._check_indexing_error\u001b[0;34m(self, key)\u001b[0m\n\u001b[1;32m   5732\u001b[0m \u001b[38;5;28;01mdef\u001b[39;00m\u001b[38;5;250m \u001b[39m\u001b[38;5;21m_check_indexing_error\u001b[39m(\u001b[38;5;28mself\u001b[39m, key):\n\u001b[1;32m   5733\u001b[0m     \u001b[38;5;28;01mif\u001b[39;00m \u001b[38;5;129;01mnot\u001b[39;00m is_scalar(key):\n\u001b[1;32m   5734\u001b[0m         \u001b[38;5;66;03m# if key is not a scalar, directly raise an error (the code below\u001b[39;00m\n\u001b[1;32m   5735\u001b[0m         \u001b[38;5;66;03m# would convert to numpy arrays and raise later any way) - GH29926\u001b[39;00m\n\u001b[0;32m-> 5736\u001b[0m         \u001b[38;5;28;01mraise\u001b[39;00m InvalidIndexError(key)\n",
      "\u001b[0;31mInvalidIndexError\u001b[0m: (slice(None, None, None), 1)"
     ]
    }
   ],
   "source": [
    "import numpy as np\n",
    "lp791 = pd.read_csv(\"./LP791_future_transit_table_damped.csv\", skiprows=1)\n",
    "lp791 = lp791[lp791['number'] == number]\n",
    "\n",
    "print(lp791.head())\n",
    "\n",
    "\n",
    "\n",
    "\n",
    "transits = lp791[:,1] + 2458540 - 2450000\n",
    "upper_error = lp791[:,2]\n",
    "lower_error = lp791[:,3]\n",
    "error = np.array([(up + down)/2.0 for up, down in zip(upper_error, lower_error)])\n",
    "sort = np.argsort(transits)\n",
    "first = transits[0]\n",
    "transits = np.array(transits[sort])\n",
    "error = error[sort]\n",
    "\n",
    "print(first == transits[0])\n",
    "\n",
    "np.savetxt(\"lp79118d_t0.csv\", np.column_stack((transits, error)), delimiter=\",\")"
   ]
  },
  {
   "cell_type": "code",
   "execution_count": null,
   "id": "0cf8c70e-d554-4f51-8954-03b5ca99e77f",
   "metadata": {},
   "outputs": [],
   "source": []
  }
 ],
 "metadata": {
  "kernelspec": {
   "display_name": "Python 3 (ipykernel)",
   "language": "python",
   "name": "python3"
  },
  "language_info": {
   "codemirror_mode": {
    "name": "ipython",
    "version": 3
   },
   "file_extension": ".py",
   "mimetype": "text/x-python",
   "name": "python",
   "nbconvert_exporter": "python",
   "pygments_lexer": "ipython3",
   "version": "3.10.14"
  }
 },
 "nbformat": 4,
 "nbformat_minor": 5
}
