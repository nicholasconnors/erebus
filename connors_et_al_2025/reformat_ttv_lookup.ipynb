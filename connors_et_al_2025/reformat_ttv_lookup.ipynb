{
 "cells": [
  {
   "cell_type": "markdown",
   "id": "4d96a96c-0f9d-4ae8-a9e7-71e439aa502f",
   "metadata": {},
   "source": [
    "## Converting table from Agol et al 2024 to a format readable by Erebus https://arxiv.org/abs/2409.11620"
   ]
  },
  {
   "cell_type": "code",
   "execution_count": 33,
   "id": "13710e57-966d-4248-96cf-c6a641d82957",
   "metadata": {},
   "outputs": [
    {
     "name": "stdout",
     "output_type": "stream",
     "text": [
      "   number  epoch        tfore         tlin       ttv   e_tfore\n",
      "0     1.0    0.0  7259.061228  7259.065898 -0.004648  0.000220\n",
      "1     1.0    1.0  7260.572632  7260.576771 -0.004108  0.000235\n",
      "2     1.0    2.0  7262.083427  7262.087645 -0.004188  0.000231\n",
      "3     1.0    3.0  7263.594084  7263.598519 -0.004407  0.000222\n",
      "4     1.0    4.0  7265.104970  7265.109393 -0.004400  0.000219\n",
      "      number  epoch        tfore         tlin       ttv   e_tfore\n",
      "2886     2.0    0.0  7258.587554  7258.585295  0.002210  0.000307\n",
      "2887     2.0    1.0  7261.008749  7261.007106  0.001576  0.000321\n",
      "2888     2.0    2.0  7263.430633  7263.428917  0.001654  0.000313\n",
      "2889     2.0    3.0  7265.852551  7265.850727  0.001772  0.000308\n",
      "2890     2.0    4.0  7268.274797  7268.272538  0.002220  0.000301\n"
     ]
    }
   ],
   "source": [
    "import numpy as np\n",
    "import pandas as pd\n",
    "\n",
    "# Fixed width of each column\n",
    "colspecs = [\n",
    "    (0, 3),    # number\n",
    "    (4, 10),   # epoch \n",
    "    (11, 25),  # tfore \n",
    "    (26, 40),  # tlin \n",
    "    (41, 52),  # ttv \n",
    "    (53, 63),  # e_tfore \n",
    "]\n",
    "\n",
    "column_names = [\"number\", \"epoch\", \"tfore\", \"tlin\", \"ttv\", \"e_tfore\"]\n",
    "df = pd.read_fwf(\"dbf1.txt\", colspecs=colspecs, names=column_names, skiprows=28)\n",
    "\n",
    "def save_csv(number, file_name):\n",
    "\tsub_df = df[df['number'] == number]\n",
    "\tprint(sub_df.head())\n",
    "\t\n",
    "\ttransits = sub_df['tfore'].to_numpy()\n",
    "\terrors = sub_df['e_tfore'].to_numpy()\n",
    "\tarray = np.column_stack((transits, errors))\n",
    "\t\n",
    "\tnp.savetxt(file_name + \".csv\", array, delimiter=\",\")\n",
    "\n",
    "save_csv(1.0, \"trappist1b_t0\")\n",
    "save_csv(2.0, \"trappist1c_t0\")"
   ]
  },
  {
   "cell_type": "markdown",
   "id": "d45274fc-be88-44ff-9970-82e5b2c394e0",
   "metadata": {},
   "source": [
    "## Converting table from Greklek-McKeon et al 2025 to a format readable by Erebus https://arxiv.org/abs/2501.18700"
   ]
  },
  {
   "cell_type": "code",
   "execution_count": 34,
   "id": "e1588a6b-1115-475c-9739-f684d23ab9f1",
   "metadata": {},
   "outputs": [
    {
     "name": "stdout",
     "output_type": "stream",
     "text": [
      "8546.378899999894\n"
     ]
    }
   ],
   "source": [
    "import numpy as np\n",
    "lp791 = np.loadtxt(\"./LP791_future_transit_table_damped.csv\", delimiter=\",\", skiprows=1, usecols=(1,2,3,4))\n",
    "transits = lp791[:,1] + 2458540 - 2450000\n",
    "upper_error = lp791[:,2]\n",
    "lower_error = lp791[:,3]\n",
    "error = np.array([(up + down)/2.0 for up, down in zip(upper_error, lower_error)])\n",
    "\n",
    "print(transits[0])\n",
    "\n",
    "np.savetxt(\"lp79118d_t0.csv\", np.column_stack((transits, error)), delimiter=\",\")"
   ]
  },
  {
   "cell_type": "code",
   "execution_count": null,
   "id": "0cf8c70e-d554-4f51-8954-03b5ca99e77f",
   "metadata": {},
   "outputs": [],
   "source": []
  }
 ],
 "metadata": {
  "kernelspec": {
   "display_name": "Python 3 (ipykernel)",
   "language": "python",
   "name": "python3"
  },
  "language_info": {
   "codemirror_mode": {
    "name": "ipython",
    "version": 3
   },
   "file_extension": ".py",
   "mimetype": "text/x-python",
   "name": "python",
   "nbconvert_exporter": "python",
   "pygments_lexer": "ipython3",
   "version": "3.10.14"
  }
 },
 "nbformat": 4,
 "nbformat_minor": 5
}
