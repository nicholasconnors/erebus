{
 "cells": [
  {
   "cell_type": "code",
   "execution_count": null,
   "id": "441915a2-a345-4d69-8f59-c66bf97c0108",
   "metadata": {},
   "outputs": [],
   "source": []
  }
 ],
 "metadata": {
  "kernelspec": {
   "display_name": "",
   "name": ""
  },
  "language_info": {
   "name": ""
  }
 },
 "nbformat": 4,
 "nbformat_minor": 5
}
