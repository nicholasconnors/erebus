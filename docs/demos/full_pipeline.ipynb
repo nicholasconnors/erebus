{
 "cells": [
  {
   "cell_type": "markdown",
   "id": "7903307c-5b63-4334-b2d9-3b2087a6c4af",
   "metadata": {},
   "source": [
    "# Full pipeline example"
   ]
  },
  {
   "cell_type": "markdown",
   "id": "76504b8e-4aad-4903-a1eb-68bf45ea810f",
   "metadata": {},
   "source": [
    "This demo will show how to load calints data downloaded from MAST and fit for the eclipse depths of each visits individually and jointly using Erebus."
   ]
  },
  {
   "cell_type": "code",
   "execution_count": 1,
   "id": "441915a2-a345-4d69-8f59-c66bf97c0108",
   "metadata": {},
   "outputs": [],
   "source": [
    "from erebus import Erebus"
   ]
  },
  {
   "cell_type": "markdown",
   "id": "3736a880-f37b-4085-aaa3-db0818f8131f",
   "metadata": {},
   "source": [
    "Erebus needs two configuration files to run: One that includes the physical parameters of the planet, and one that includes the configuration of the run.\n",
    "\n",
    "An example planet file can look like (detailed explanation is given on the [planet configuration page](../api_config.md):\n",
    "\n",
    "planet.yaml\n",
    "```\n",
    "name: LHS1478b\n",
    "t0: [2458786.75425, 0.00042]\n",
    "p: [1.9495378, 0.0000041]\n",
    "rp_rstar: [0.0462, 0.0011]\n",
    "a_rstar: [16.119, 0.094]\n",
    "inc: [87.452, 0.052]\n",
    "ecc: [0]\n",
    "w: [0]\n",
    "```\n",
    "\n",
    "An example run configuration can look like this (detailed information is given on the [run configuration page](../api_config.md)):\n",
    "\n",
    "run_config.yaml\n",
    "```\n",
    "fit_fnpca: true\n",
    "fit_linear: true\n",
    "perform_individual_fits: true\n",
    "perform_joint_fit: true\n",
    "calints_path: ./mast_lhs1478b\n",
    "planet_path: ./lhs1478b.yaml\n",
    "aperture_radius: 5\n",
    "annulus_start: 12\n",
    "annulus_end: 20\n",
    "trim_integrations: [10, 40]\n",
    "```\n",
    "\n",
    "To follow along with this demo you can either a) download JWST exoplanet observations from the [Barbara A. Mikulski Archive for Space Telescopes](https://mast.stsci.edu/portal/Mashup/Clients/Mast/Portal.html) or b) clone the Erebus GitHub repo and find example data provided at `manual_tests/lhs1478b`. The `manual_tests` directory also has an example planet configuration file and run configuration file."
   ]
  },
  {
   "cell_type": "code",
   "execution_count": 2,
   "id": "24501aff-7365-4b24-856c-22576d9c8655",
   "metadata": {},
   "outputs": [
    {
     "name": "stdout",
     "output_type": "stream",
     "text": [
      "Circular orbit: using gaussian prior for t_sec\n",
      "Predicted t_sec: 0.0879+/-0.0004 days from the start of the observation\n",
      "Visit jw03730012001 already ran\n",
      "Circular orbit: using gaussian prior for t_sec\n",
      "Predicted t_sec: 0.0886+/-0.0004 days from the start of the observation\n",
      "Visit jw03730013001 wasn't run yet\n",
      "Circular orbit: using gaussian prior for t_sec_offset\n",
      "Joint fit wasn't run yet\n"
     ]
    }
   ],
   "source": [
    "run = \"../../manual_tests/lhs1478b_run.yaml\"\n",
    "erebus = Erebus(run)"
   ]
  },
  {
   "cell_type": "markdown",
   "id": "82eb4006-5392-4cc1-840e-db4053c7034f",
   "metadata": {},
   "source": [
    "Creating an `Erebus` pipeline object loads in all the data and caches it to the disk. Once it is loaded, we can run it. We can optionally set the output folder where Erebus will save information on the run parameters, output files for the individual and joint fits, as well as figures for visualizing the data.\n",
    "\n",
    "Both the `Erebus` constructor and `run` method can take in an optional `force_clear_cache` parameter to clear the cache if need be, else the `erebus_cache` folder can be deleted manually. "
   ]
  },
  {
   "cell_type": "code",
   "execution_count": null,
   "id": "45fbd627-5e78-4bbe-a7c5-086d3414812a",
   "metadata": {},
   "outputs": [
    {
     "name": "stdout",
     "output_type": "stream",
     "text": [
      "Skipping jw03730012001: already ran\n",
      "Cannot make corner plot: fitting was not yet run!\n",
      "Cannot make chain plot: fitting was not yet run!\n",
      "Initial guesses: [0.08859084717515464, 0.0002, 2458786.75425, 0.0462, 16.119, 1.9495378, 87.452, 0.1, 0.1, 0.1, 0.1, 0.1, 0.001, 1e-06, 0.0004] variation: [0.00021000250147319675, 0.000325, 0.00021, 0.00055, 0.047, 2.05e-06, 0.026, 2.475, 2.475, 2.475, 2.475, 2.475, 0.49975, 0.0024997500000000002, 0.0001]\n",
      "Initial likelihood: 4176.717554937408\n",
      "Fitting for 15 parameters\n",
      "Moved away from starting positions\n",
      "Initial guesses shape: (2, 64, 15)\n",
      "Mean likelihood after moving: 5263.339627322805\n",
      "process chain 0\n"
     ]
    },
    {
     "name": "stderr",
     "output_type": "stream",
     "text": [
      "100%|█████████████████████████████████████████████████████████████████████████████| 10000/10000 [03:37<00:00, 45.88it/s]\n"
     ]
    },
    {
     "name": "stdout",
     "output_type": "stream",
     "text": [
      "process chain 1\n"
     ]
    },
    {
     "name": "stderr",
     "output_type": "stream",
     "text": [
      "100%|█████████████████████████████████████████████████████████████████████████████| 10000/10000 [03:37<00:00, 45.94it/s]\n"
     ]
    },
    {
     "name": "stdout",
     "output_type": "stream",
     "text": [
      "Rubin gelman convergence: [1.00022456 1.00058509 1.00098016 1.00008146 1.00000368 1.00005233\n",
      " 1.00004899 1.00075189 1.00076093 1.00002796 1.00064601 1.00196542\n",
      " 1.00081324 1.00012903 1.00074348] converged? True\n",
      "Autocorr time: 173.2468014555822 converged? True\n",
      "Iterations: 10000 Max steps: 100000\n",
      "Continue looping? False\n",
      "Autocorr time: 173.2468014555822\n",
      "{'t_sec': 0.08857247476448377+/-0.0004084412068059151, 'fp': 0.00017421917988359026+/-6.95562797107893e-05, 't0': 2458786.7542721424+/-0.0004172101616859436, 'rp_rstar': 0.04617538621830538+/-0.0010832334292047614, 'a_rstar': 16.13408626423307+/-0.093966656810208, 'p': 1.9495378351007768+/-4.155830306995512e-06, 'inc': 87.43600644415932+/-0.0521976066390053, 'ecc': 0.0+/-0, 'w': 0.0+/-0, 'pc1': 0.04295987347660536+/-0.04597615978941254, 'pc2': -0.145477595940173+/-0.10262016804104146, 'pc3': 0.21139546736331682+/-0.21154486257443544, 'pc4': -0.2153816753809144+/-0.18663173124264434, 'pc5': -0.3668357734593386+/-0.2102410226728217, 'exp1': 0.0+/-0, 'exp2': 0.0+/-0, 'a': -0.0070736716792697725+/-0.0013649948309790243, 'b': 0.00031707354494144697+/-0.0001106153091900269, 'y_err': 0.0007644027088380293+/-1.803550819032165e-05}\n",
      "Initial guesses: [0.0002, 0.1, 0.1, 0.1, 0.1, 0.1, 0.001, 1e-06, 0.1, 0.1, 0.1, 0.1, 0.1, 0.001, 1e-06, 0.0004] variation: [0.000325, 2.475, 2.475, 2.475, 2.475, 2.475, 0.49975, 0.0024997500000000002, 2.475, 2.475, 2.475, 2.475, 2.475, 0.49975, 0.0024997500000000002, 0.0001]\n",
      "Initial likelihood: 2328.0039633959323\n",
      "Fitting for 16 parameters\n",
      "Moved away from starting positions\n",
      "Initial guesses shape: (2, 80, 16)\n",
      "Mean likelihood after moving: 2920.059026344691\n",
      "process chain 0\n"
     ]
    },
    {
     "name": "stderr",
     "output_type": "stream",
     "text": [
      "  4%|██▊                                                                            | 358/10000 [00:23<10:25, 15.43it/s]"
     ]
    }
   ],
   "source": [
    "erebus.run(output_folder=\"./output/\")"
   ]
  },
  {
   "cell_type": "markdown",
   "id": "39471b14-8fba-4a4b-80a6-1ed239c1e7da",
   "metadata": {},
   "source": [
    "After running the Erebus pipeline the results are saved to the provided outputs folder. Erebus has built-in plotting routines or you can directly access the data and make your own plots."
   ]
  },
  {
   "cell_type": "code",
   "execution_count": null,
   "id": "e5b91a7c-3931-4f71-853d-5f6a840eb463",
   "metadata": {},
   "outputs": [],
   "source": [
    "from erebus.joint_fit_results import JointFitResults\n",
    "from erebus.individual_fit_results import IndividualFitResults\n",
    "\n",
    "from erebus.plotting import plot_joint_fit\n",
    "from erebus.plotting import plot_fnpca_individual_fit\n",
    "\n",
    "joint_fit = JointFitResults.load(\"./output/lhs1478b_joint_fit.h5\")\n",
    "plot_joint_fit(joint_fit)\n",
    "\n",
    "visit_1 = IndividualFitResults.load(\"./output/lhs1478b_visit_1_jw03730013001.h5\")\n",
    "plot_fnpca_individual_fit(visit_1)"
   ]
  },
  {
   "cell_type": "markdown",
   "id": "760430ae-b181-47cf-adb4-2a59b42c3534",
   "metadata": {},
   "source": [
    "Consult the [API](../api_results.md) for a list of data available in each results object."
   ]
  },
  {
   "cell_type": "code",
   "execution_count": null,
   "id": "810e2e84-f013-4274-b7a4-5989df9bff3e",
   "metadata": {},
   "outputs": [],
   "source": []
  }
 ],
 "metadata": {
  "kernelspec": {
   "display_name": "Python 3 (ipykernel)",
   "language": "python",
   "name": "python3"
  },
  "language_info": {
   "codemirror_mode": {
    "name": "ipython",
    "version": 3
   },
   "file_extension": ".py",
   "mimetype": "text/x-python",
   "name": "python",
   "nbconvert_exporter": "python",
   "pygments_lexer": "ipython3",
   "version": "3.10.14"
  }
 },
 "nbformat": 4,
 "nbformat_minor": 5
}
