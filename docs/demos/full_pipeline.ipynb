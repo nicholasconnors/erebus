{
 "cells": [
  {
   "cell_type": "markdown",
   "id": "7903307c-5b63-4334-b2d9-3b2087a6c4af",
   "metadata": {},
   "source": [
    "# Full pipeline example"
   ]
  },
  {
   "cell_type": "markdown",
   "id": "76504b8e-4aad-4903-a1eb-68bf45ea810f",
   "metadata": {},
   "source": [
    "This demo will show how to load calints data downloaded from MAST and fit for the eclipse depths of each visits individually and jointly using Erebus."
   ]
  },
  {
   "cell_type": "code",
   "execution_count": 4,
   "id": "441915a2-a345-4d69-8f59-c66bf97c0108",
   "metadata": {},
   "outputs": [
    {
     "ename": "ModuleNotFoundError",
     "evalue": "No module named 'src'",
     "output_type": "error",
     "traceback": [
      "\u001b[31m---------------------------------------------------------------------------\u001b[39m",
      "\u001b[31mModuleNotFoundError\u001b[39m                       Traceback (most recent call last)",
      "\u001b[36mCell\u001b[39m\u001b[36m \u001b[39m\u001b[32mIn[4]\u001b[39m\u001b[32m, line 1\u001b[39m\n\u001b[32m----> \u001b[39m\u001b[32m1\u001b[39m \u001b[38;5;28;01mfrom\u001b[39;00m\u001b[38;5;250m \u001b[39m\u001b[34;01merebus\u001b[39;00m\u001b[34;01m.\u001b[39;00m\u001b[34;01merebus\u001b[39;00m\u001b[38;5;250m \u001b[39m\u001b[38;5;28;01mimport\u001b[39;00m Erebus\n\u001b[32m      2\u001b[39m \u001b[38;5;28;01mfrom\u001b[39;00m\u001b[38;5;250m \u001b[39m\u001b[34;01merebus\u001b[39;00m\u001b[34;01m.\u001b[39;00m\u001b[34;01merebus\u001b[39;00m\u001b[34;01m.\u001b[39;00m\u001b[34;01mutility\u001b[39;00m\u001b[34;01m.\u001b[39;00m\u001b[34;01mrun_cfg\u001b[39;00m\u001b[38;5;250m \u001b[39m\u001b[38;5;28;01mimport\u001b[39;00m ErebusRunConfig\n",
      "\u001b[36mFile \u001b[39m\u001b[32m~/miniconda3/envs/erebus_env/lib/python3.12/site-packages/erebus/erebus.py:5\u001b[39m\n\u001b[32m      3\u001b[39m \u001b[38;5;28;01mfrom\u001b[39;00m\u001b[38;5;250m \u001b[39m\u001b[34;01mtyping\u001b[39;00m\u001b[38;5;250m \u001b[39m\u001b[38;5;28;01mimport\u001b[39;00m List\n\u001b[32m      4\u001b[39m \u001b[38;5;28;01mimport\u001b[39;00m\u001b[38;5;250m \u001b[39m\u001b[34;01mnumpy\u001b[39;00m\u001b[38;5;250m \u001b[39m\u001b[38;5;28;01mas\u001b[39;00m\u001b[38;5;250m \u001b[39m\u001b[34;01mnp\u001b[39;00m\n\u001b[32m----> \u001b[39m\u001b[32m5\u001b[39m \u001b[38;5;28;01mfrom\u001b[39;00m\u001b[38;5;250m \u001b[39m\u001b[34;01msrc\u001b[39;00m\u001b[34;01m.\u001b[39;00m\u001b[34;01merebus\u001b[39;00m\u001b[34;01m.\u001b[39;00m\u001b[34;01mutility\u001b[39;00m\u001b[34;01m.\u001b[39;00m\u001b[34;01mh5_serializable_file\u001b[39;00m\u001b[38;5;250m \u001b[39m\u001b[38;5;28;01mimport\u001b[39;00m H5Serializable\n\u001b[32m      6\u001b[39m \u001b[38;5;28;01mfrom\u001b[39;00m\u001b[38;5;250m \u001b[39m\u001b[34;01msrc\u001b[39;00m\u001b[34;01m.\u001b[39;00m\u001b[34;01merebus\u001b[39;00m\u001b[34;01m.\u001b[39;00m\u001b[34;01mutility\u001b[39;00m\u001b[34;01m.\u001b[39;00m\u001b[34;01mrun_cfg\u001b[39;00m\u001b[38;5;250m \u001b[39m\u001b[38;5;28;01mimport\u001b[39;00m ErebusRunConfig\n\u001b[32m      7\u001b[39m \u001b[38;5;28;01mfrom\u001b[39;00m\u001b[38;5;250m \u001b[39m\u001b[34;01msrc\u001b[39;00m\u001b[34;01m.\u001b[39;00m\u001b[34;01merebus\u001b[39;00m\u001b[34;01m.\u001b[39;00m\u001b[34;01mphotometry_data\u001b[39;00m\u001b[38;5;250m \u001b[39m\u001b[38;5;28;01mimport\u001b[39;00m PhotometryData\n",
      "\u001b[31mModuleNotFoundError\u001b[39m: No module named 'src'"
     ]
    }
   ],
   "source": [
    "from erebus.erebus import Erebus\n",
    "from erebus.erebus.utility.run_cfg import ErebusRunConfig"
   ]
  },
  {
   "cell_type": "code",
   "execution_count": null,
   "id": "24501aff-7365-4b24-856c-22576d9c8655",
   "metadata": {},
   "outputs": [],
   "source": [
    "run = \"run_config.yaml\"\n",
    "planet = \"planet.yaml\"\n",
    "\n",
    "cfg = ErebusRunConfig.load(run)\n",
    "erebus = Erebus(cfg)\n",
    "erebus.run()\n",
    "del erebus"
   ]
  }
 ],
 "metadata": {
  "kernelspec": {
   "display_name": "erebus_env",
   "language": "python",
   "name": "erebus_env"
  },
  "language_info": {
   "codemirror_mode": {
    "name": "ipython",
    "version": 3
   },
   "file_extension": ".py",
   "mimetype": "text/x-python",
   "name": "python",
   "nbconvert_exporter": "python",
   "pygments_lexer": "ipython3",
   "version": "3.12.9"
  }
 },
 "nbformat": 4,
 "nbformat_minor": 5
}
