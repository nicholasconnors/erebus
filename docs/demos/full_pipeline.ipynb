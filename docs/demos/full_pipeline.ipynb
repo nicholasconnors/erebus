{
 "cells": [
  {
   "cell_type": "markdown",
   "id": "7903307c-5b63-4334-b2d9-3b2087a6c4af",
   "metadata": {},
   "source": [
    "# Full pipeline example"
   ]
  },
  {
   "cell_type": "markdown",
   "id": "76504b8e-4aad-4903-a1eb-68bf45ea810f",
   "metadata": {},
   "source": [
    "This demo will show how to load calints data downloaded from MAST and fit for the eclipse depths of each visits individually and jointly using Erebus."
   ]
  },
  {
   "cell_type": "code",
   "execution_count": 1,
   "id": "441915a2-a345-4d69-8f59-c66bf97c0108",
   "metadata": {},
   "outputs": [],
   "source": [
    "import erebus"
   ]
  },
  {
   "cell_type": "code",
   "execution_count": null,
   "id": "24501aff-7365-4b24-856c-22576d9c8655",
   "metadata": {},
   "outputs": [],
   "source": []
  }
 ],
 "metadata": {
  "kernelspec": {
   "display_name": "erebus_env",
   "language": "python",
   "name": "erebus_env"
  },
  "language_info": {
   "codemirror_mode": {
    "name": "ipython",
    "version": 3
   },
   "file_extension": ".py",
   "mimetype": "text/x-python",
   "name": "python",
   "nbconvert_exporter": "python",
   "pygments_lexer": "ipython3",
   "version": "3.12.9"
  }
 },
 "nbformat": 4,
 "nbformat_minor": 5
}
