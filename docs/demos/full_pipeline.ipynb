{
 "cells": [
  {
   "cell_type": "markdown",
   "id": "7903307c-5b63-4334-b2d9-3b2087a6c4af",
   "metadata": {},
   "source": [
    "# Full pipeline example"
   ]
  },
  {
   "cell_type": "markdown",
   "id": "76504b8e-4aad-4903-a1eb-68bf45ea810f",
   "metadata": {},
   "source": [
    "This demo will show how to load calints data downloaded from MAST and fit for the eclipse depths of each visits individually and jointly using Erebus."
   ]
  },
  {
   "cell_type": "code",
   "execution_count": 3,
   "id": "441915a2-a345-4d69-8f59-c66bf97c0108",
   "metadata": {},
   "outputs": [],
   "source": [
    "from erebus import Erebus\n",
    "from erebus.utility.run_cfg import ErebusRunConfig"
   ]
  },
  {
   "cell_type": "markdown",
   "id": "3736a880-f37b-4085-aaa3-db0818f8131f",
   "metadata": {},
   "source": [
    "Erebus needs two configuration files to run: One that includes the physical parameters of the planet, and one that includes the configuration of the run.\n",
    "\n",
    "An example planet file can look like (detailed explanation is given on the planet configuration page):\n",
    "\n",
    "planet.yaml\n",
    "```\n",
    "name: LHS1478b\n",
    "t0: [2458786.75425, 0.00042]\n",
    "p: [1.9495378, 0.0000041]\n",
    "rp_rstar: [0.0462, 0.0011]\n",
    "a_rstar: [16.119, 0.094]\n",
    "inc: [87.452, 0.052]\n",
    "ecc: [0]\n",
    "w: [0]\n",
    "```\n",
    "\n",
    "An example run configuration can look like this (detailed information is given on the run configuration page):\n",
    "\n",
    "run_config.yaml\n",
    "```\n",
    "fit_fnpca: true\n",
    "fit_linear: true\n",
    "perform_individual_fits: true\n",
    "perform_joint_fit: true\n",
    "calints_path: ./mast_lhs1478b\n",
    "planet_path: ./lhs1478b.yaml\n",
    "aperture_radius: 5\n",
    "annulus_start: 12\n",
    "annulus_end: 20\n",
    "trim_integrations: [10, 40]\n",
    "```\n",
    "\n",
    "To follow along with this demo you can either a) download JWST exoplanet observations from the [Barbara A. Mikulski Archive for Space Telescopes](https://mast.stsci.edu/portal/Mashup/Clients/Mast/Portal.html) or b) clone the Erebus GitHub repo and find example data provided at `manual_tests/lhs1478b`. The `manual_tests` directory also has an example planet configuration file and run configuration file."
   ]
  },
  {
   "cell_type": "code",
   "execution_count": 7,
   "id": "24501aff-7365-4b24-856c-22576d9c8655",
   "metadata": {},
   "outputs": [
    {
     "name": "stdout",
     "output_type": "stream",
     "text": [
      "/mnt/c/Users/nicho/Research/GitHub/erebus/docs/demos\n",
      "No visits were found in that folder. Is the directory mounted?\n",
      "No visits found, aborting\n"
     ]
    }
   ],
   "source": [
    "import os\n",
    "print(os.getcwd())\n",
    "\n",
    "run = \"../../manual_tests/lhs1478b_run.yaml\"\n",
    "planet = \"../../manual_tests/lhs1478b.yaml\"\n",
    "\n",
    "cfg = ErebusRunConfig.load(run)\n",
    "erebus = Erebus(cfg)"
   ]
  },
  {
   "cell_type": "code",
   "execution_count": null,
   "id": "6f124c51-f06d-4671-9b19-c4d3e5c1ffd6",
   "metadata": {},
   "outputs": [],
   "source": []
  }
 ],
 "metadata": {
  "kernelspec": {
   "display_name": "erebus_env",
   "language": "python",
   "name": "erebus_env"
  },
  "language_info": {
   "codemirror_mode": {
    "name": "ipython",
    "version": 3
   },
   "file_extension": ".py",
   "mimetype": "text/x-python",
   "name": "python",
   "nbconvert_exporter": "python",
   "pygments_lexer": "ipython3",
   "version": "3.12.9"
  }
 },
 "nbformat": 4,
 "nbformat_minor": 5
}
