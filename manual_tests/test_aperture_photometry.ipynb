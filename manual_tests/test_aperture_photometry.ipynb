{
 "cells": [
  {
   "cell_type": "code",
   "execution_count": 1,
   "id": "5ab53d14-5a71-46cd-b55d-ba276fd5afae",
   "metadata": {},
   "outputs": [
    {
     "name": "stdout",
     "output_type": "stream",
     "text": [
      "/mnt/c/Users/nicho/Research/GitHub/erebus\n"
     ]
    }
   ],
   "source": [
    "import sys\n",
    "import os\n",
    "directory = os.path.abspath(os.path.dirname(os.getcwd()))\n",
    "print(directory)\n",
    "sys.path.append(directory)\n",
    "\n",
    "from src.photometry_data import PhotometryData\n",
    "from src.wrapped_fits import WrappedFits\n",
    "from src.utility import fits_file_utils as f_utils"
   ]
  },
  {
   "cell_type": "code",
   "execution_count": 2,
   "id": "e82eaab5-a302-4efa-9b04-0ed39c5f5499",
   "metadata": {},
   "outputs": [],
   "source": [
    "folder = \"/home/nicho/venus/Research/TRAPPIST-1B/JWST\"\n",
    "visits = f_utils.get_fits_files_visits_in_folder(folder)\n",
    "fits = WrappedFits(folder, visits[0], star_pixel_position = (697, 515))\n",
    "photometry = PhotometryData(fits, 5, (12,20))"
   ]
  },
  {
   "cell_type": "code",
   "execution_count": 3,
   "id": "e567194c-de62-4430-9e58-ac61e6463960",
   "metadata": {},
   "outputs": [
    {
     "data": {
      "text/plain": [
       "[<matplotlib.lines.Line2D at 0x7f2b3dcddea0>]"
      ]
     },
     "execution_count": 3,
     "metadata": {},
     "output_type": "execute_result"
    },
    {
     "data": {
      "image/png": "[encoded data removed]",
      "text/plain": [
       "<Figure size 640x480 with 1 Axes>"
      ]
     },
     "metadata": {},
     "output_type": "display_data"
    }
   ],
   "source": [
    "import matplotlib.pyplot as plt\n",
    "plt.plot(photometry.t, photometry.light_curve, linestyle='', marker='.')"
   ]
  },
  {
   "cell_type": "markdown",
   "id": "13d9c77c-9c8f-4cce-924c-120f65e87c81",
   "metadata": {},
   "source": [
    "### Test fitting"
   ]
  },
  {
   "cell_type": "code",
   "execution_count": 4,
   "id": "f574e825-6c28-4903-ab3c-148cf930dd92",
   "metadata": {},
   "outputs": [],
   "source": [
    "import batman\n",
    "import matplotlib.pyplot as plt\n",
    "import numpy as np\n",
    "from src.mcmc_model import WrappedMCMC\n",
    "from src.utility.bayesian_parameter import Parameter"
   ]
  },
  {
   "cell_type": "code",
   "execution_count": 16,
   "id": "2aac52df-d747-4406-a260-7fc9ff702efa",
   "metadata": {},
   "outputs": [],
   "source": [
    "def physical_model(x, t_sec, fp, rp_rstar, a_rstar, b, per):\t\n",
    "\t# Convert impact to inclination\n",
    "\tinc = np.rad2deg(np.arccos(b / a_rstar))\n",
    "\t\n",
    "\tparams = batman.TransitParams()\n",
    "\tparams.t0 = t_sec - per / 2\n",
    "\tparams.t_secondary = t_sec\n",
    "\tparams.fp = fp\n",
    "\tparams.rp = rp_rstar\n",
    "\tparams.inc = inc\n",
    "\tparams.per = per\n",
    "\tparams.a = a_rstar  \n",
    "\tparams.ecc = 0.0  # Fixed: circular orbit\n",
    "\tparams.w = 90.0  # Fixed: circular orbit\n",
    "\tparams.limb_dark = \"quadratic\"\n",
    "\tparams.u = [0.3, 0.3]\n",
    "\ttransit_model = batman.TransitModel(params, x, transittype=\"secondary\")\n",
    "\tflux_model = transit_model.light_curve(params)\n",
    "\treturn flux_model"
   ]
  },
  {
   "cell_type": "code",
   "execution_count": 17,
   "id": "caf27a22-b01e-497f-b430-682366c29da2",
   "metadata": {},
   "outputs": [
    {
     "name": "stdout",
     "output_type": "stream",
     "text": [
      "Initial guesses: [0.09057634808618727, 0.0, 0.01, 20.0, 0.1, 3.0, 300.0] variation: [0.022644087020523933, 500.0, 0.002475, 3.75, 0.025, 0.25, 72.5]\n",
      "Initial likelihood: -2496.765819968543\n",
      "Fitting for 7 parameters\n",
      "Moved away from starting positions\n",
      "Initial guesses shape: (2, 64, 7)\n",
      "Mean likelihood after moving: -1215.8842781732635\n",
      "process chain 0\n"
     ]
    },
    {
     "name": "stderr",
     "output_type": "stream",
     "text": [
      "100%|████████████████████████████████████████████████████████████████████████████| 10000/10000 [00:36<00:00, 272.65it/s]\n"
     ]
    },
    {
     "name": "stdout",
     "output_type": "stream",
     "text": [
      "process chain 1\n"
     ]
    },
    {
     "name": "stderr",
     "output_type": "stream",
     "text": [
      "100%|████████████████████████████████████████████████████████████████████████████| 10000/10000 [00:39<00:00, 253.73it/s]\n"
     ]
    },
    {
     "name": "stdout",
     "output_type": "stream",
     "text": [
      "The chain is shorter than 50 times the integrated autocorrelation time for 7 parameter(s). Use this estimate with caution and run a longer chain!\n",
      "N/50 = 200;\n",
      "tau: [419.19109865 348.53843841 402.38641631 497.96452134 424.92730751\n",
      " 415.95455485 412.7582576 ]\n",
      "Rubin gelman convergence: [1.00043425 1.00092455 1.00236662 1.00272419 1.00016584 1.00043367\n",
      " 1.00050477] converged? True\n",
      "Autocorr time: inf converged? False\n",
      "Iterations: 10000 Max steps: 100000\n",
      "Continue looping? True\n",
      "process chain 0\n"
     ]
    },
    {
     "name": "stderr",
     "output_type": "stream",
     "text": [
      "100%|████████████████████████████████████████████████████████████████████████████| 10000/10000 [00:38<00:00, 256.72it/s]\n"
     ]
    },
    {
     "name": "stdout",
     "output_type": "stream",
     "text": [
      "process chain 1\n"
     ]
    },
    {
     "name": "stderr",
     "output_type": "stream",
     "text": [
      "100%|████████████████████████████████████████████████████████████████████████████| 10000/10000 [00:39<00:00, 255.33it/s]\n"
     ]
    },
    {
     "name": "stdout",
     "output_type": "stream",
     "text": [
      "The chain is shorter than 50 times the integrated autocorrelation time for 7 parameter(s). Use this estimate with caution and run a longer chain!\n",
      "N/50 = 400;\n",
      "tau: [642.47212093 445.62469871 428.76979012 874.45078146 523.62916666\n",
      " 597.56464494 465.58198867]\n",
      "Rubin gelman convergence: [1.0007952  0.99999929 1.00028565 1.00085708 1.0007335  1.0008267\n",
      " 1.00048915] converged? True\n",
      "Autocorr time: inf converged? False\n",
      "Iterations: 20000 Max steps: 100000\n",
      "Continue looping? True\n",
      "process chain 0\n"
     ]
    },
    {
     "name": "stderr",
     "output_type": "stream",
     "text": [
      "100%|████████████████████████████████████████████████████████████████████████████| 10000/10000 [00:39<00:00, 255.67it/s]\n"
     ]
    },
    {
     "name": "stdout",
     "output_type": "stream",
     "text": [
      "process chain 1\n"
     ]
    },
    {
     "name": "stderr",
     "output_type": "stream",
     "text": [
      "100%|████████████████████████████████████████████████████████████████████████████| 10000/10000 [00:38<00:00, 257.59it/s]\n"
     ]
    },
    {
     "name": "stdout",
     "output_type": "stream",
     "text": [
      "The chain is shorter than 50 times the integrated autocorrelation time for 3 parameter(s). Use this estimate with caution and run a longer chain!\n",
      "N/50 = 600;\n",
      "tau: [ 692.67362406  423.14119887  425.97696934 1105.74775349  587.05156323\n",
      "  637.95244521  496.79822653]\n",
      "Rubin gelman convergence: [1.00099934 1.00004829 1.00005097 1.00009827 1.00060386 1.0000571\n",
      " 1.00000858] converged? True\n",
      "Autocorr time: inf converged? False\n",
      "Iterations: 30000 Max steps: 100000\n",
      "Continue looping? True\n",
      "process chain 0\n"
     ]
    },
    {
     "name": "stderr",
     "output_type": "stream",
     "text": [
      "100%|████████████████████████████████████████████████████████████████████████████| 10000/10000 [00:39<00:00, 254.75it/s]\n"
     ]
    },
    {
     "name": "stdout",
     "output_type": "stream",
     "text": [
      "process chain 1\n"
     ]
    },
    {
     "name": "stderr",
     "output_type": "stream",
     "text": [
      "100%|████████████████████████████████████████████████████████████████████████████| 10000/10000 [00:39<00:00, 253.05it/s]\n"
     ]
    },
    {
     "name": "stdout",
     "output_type": "stream",
     "text": [
      "The chain is shorter than 50 times the integrated autocorrelation time for 1 parameter(s). Use this estimate with caution and run a longer chain!\n",
      "N/50 = 800;\n",
      "tau: [ 660.9606957   416.58034313  416.6247445  1330.09458846  566.35395426\n",
      "  669.55590539  498.90589762]\n",
      "Rubin gelman convergence: [1.00016577 1.0000176  1.00004838 1.000053   1.00045043 1.00007036\n",
      " 1.00006311] converged? True\n",
      "Autocorr time: inf converged? False\n",
      "Iterations: 40000 Max steps: 100000\n",
      "Continue looping? True\n",
      "process chain 0\n"
     ]
    },
    {
     "name": "stderr",
     "output_type": "stream",
     "text": [
      "100%|████████████████████████████████████████████████████████████████████████████| 10000/10000 [00:39<00:00, 254.57it/s]\n"
     ]
    },
    {
     "name": "stdout",
     "output_type": "stream",
     "text": [
      "process chain 1\n"
     ]
    },
    {
     "name": "stderr",
     "output_type": "stream",
     "text": [
      "100%|████████████████████████████████████████████████████████████████████████████| 10000/10000 [00:40<00:00, 248.60it/s]\n"
     ]
    },
    {
     "name": "stdout",
     "output_type": "stream",
     "text": [
      "The chain is shorter than 50 times the integrated autocorrelation time for 1 parameter(s). Use this estimate with caution and run a longer chain!\n",
      "N/50 = 1000;\n",
      "tau: [ 626.99059696  424.68936196  424.58527957 1408.08537277  573.13191281\n",
      "  679.10535727  494.6851109 ]\n",
      "Rubin gelman convergence: [1.00051569 0.99999975 0.99999972 1.00006153 1.00063688 1.00020885\n",
      " 1.00002842] converged? True\n",
      "Autocorr time: inf converged? False\n",
      "Iterations: 50000 Max steps: 100000\n",
      "Continue looping? True\n",
      "process chain 0\n"
     ]
    },
    {
     "name": "stderr",
     "output_type": "stream",
     "text": [
      "100%|████████████████████████████████████████████████████████████████████████████| 10000/10000 [00:39<00:00, 255.29it/s]\n"
     ]
    },
    {
     "name": "stdout",
     "output_type": "stream",
     "text": [
      "process chain 1\n"
     ]
    },
    {
     "name": "stderr",
     "output_type": "stream",
     "text": [
      "100%|████████████████████████████████████████████████████████████████████████████| 10000/10000 [00:39<00:00, 253.29it/s]\n"
     ]
    },
    {
     "name": "stdout",
     "output_type": "stream",
     "text": [
      "The chain is shorter than 50 times the integrated autocorrelation time for 1 parameter(s). Use this estimate with caution and run a longer chain!\n",
      "N/50 = 1200;\n",
      "tau: [ 634.887304    431.51453224  451.73526782 1491.59963764  556.61825662\n",
      "  692.70693144  491.5470868 ]\n",
      "Rubin gelman convergence: [1.00031386 1.00004929 1.00000212 1.00087483 1.00076369 1.00040014\n",
      " 1.00001651] converged? True\n",
      "Autocorr time: inf converged? False\n",
      "Iterations: 60000 Max steps: 100000\n",
      "Continue looping? True\n",
      "process chain 0\n"
     ]
    },
    {
     "name": "stderr",
     "output_type": "stream",
     "text": [
      "100%|████████████████████████████████████████████████████████████████████████████| 10000/10000 [00:39<00:00, 252.16it/s]\n"
     ]
    },
    {
     "name": "stdout",
     "output_type": "stream",
     "text": [
      "process chain 1\n"
     ]
    },
    {
     "name": "stderr",
     "output_type": "stream",
     "text": [
      "100%|████████████████████████████████████████████████████████████████████████████| 10000/10000 [00:39<00:00, 252.88it/s]\n"
     ]
    },
    {
     "name": "stdout",
     "output_type": "stream",
     "text": [
      "The chain is shorter than 50 times the integrated autocorrelation time for 1 parameter(s). Use this estimate with caution and run a longer chain!\n",
      "N/50 = 1400;\n",
      "tau: [ 631.3546085   412.88519801  465.86479683 1645.58186034  583.930323\n",
      "  702.28283071  484.88199915]\n",
      "Rubin gelman convergence: [1.00012048 1.00001078 1.00002519 1.00093672 1.00078224 1.00024779\n",
      " 1.00006873] converged? True\n",
      "Autocorr time: inf converged? False\n",
      "Iterations: 70000 Max steps: 100000\n",
      "Continue looping? True\n",
      "process chain 0\n"
     ]
    },
    {
     "name": "stderr",
     "output_type": "stream",
     "text": [
      "100%|████████████████████████████████████████████████████████████████████████████| 10000/10000 [00:39<00:00, 255.36it/s]\n"
     ]
    },
    {
     "name": "stdout",
     "output_type": "stream",
     "text": [
      "process chain 1\n"
     ]
    },
    {
     "name": "stderr",
     "output_type": "stream",
     "text": [
      "100%|████████████████████████████████████████████████████████████████████████████| 10000/10000 [00:39<00:00, 255.05it/s]\n"
     ]
    },
    {
     "name": "stdout",
     "output_type": "stream",
     "text": [
      "The chain is shorter than 50 times the integrated autocorrelation time for 1 parameter(s). Use this estimate with caution and run a longer chain!\n",
      "N/50 = 1600;\n",
      "tau: [ 612.11558528  417.71104466  474.0024286  1719.97591216  574.96193826\n",
      "  728.48753296  483.70760316]\n",
      "Rubin gelman convergence: [1.00003364 1.00000043 1.00011087 1.00072882 1.00062567 0.99999988\n",
      " 1.00015686] converged? True\n",
      "Autocorr time: inf converged? False\n",
      "Iterations: 80000 Max steps: 100000\n",
      "Continue looping? True\n",
      "process chain 0\n"
     ]
    },
    {
     "name": "stderr",
     "output_type": "stream",
     "text": [
      "100%|████████████████████████████████████████████████████████████████████████████| 10000/10000 [00:40<00:00, 249.80it/s]\n"
     ]
    },
    {
     "name": "stdout",
     "output_type": "stream",
     "text": [
      "process chain 1\n"
     ]
    },
    {
     "name": "stderr",
     "output_type": "stream",
     "text": [
      "100%|████████████████████████████████████████████████████████████████████████████| 10000/10000 [00:39<00:00, 251.81it/s]\n"
     ]
    },
    {
     "name": "stdout",
     "output_type": "stream",
     "text": [
      "The chain is shorter than 50 times the integrated autocorrelation time for 1 parameter(s). Use this estimate with caution and run a longer chain!\n",
      "N/50 = 1800;\n",
      "tau: [ 601.09127688  425.40924111  474.26745067 1822.94668311  566.7403615\n",
      "  738.36943098  481.68036914]\n",
      "Rubin gelman convergence: [1.00001931 1.0000196  1.00014898 1.00102072 1.00044351 1.00001295\n",
      " 1.0000446 ] converged? True\n",
      "Autocorr time: inf converged? False\n",
      "Iterations: 90000 Max steps: 100000\n",
      "Continue looping? True\n",
      "process chain 0\n"
     ]
    },
    {
     "name": "stderr",
     "output_type": "stream",
     "text": [
      "100%|████████████████████████████████████████████████████████████████████████████| 10000/10000 [00:38<00:00, 259.37it/s]\n"
     ]
    },
    {
     "name": "stdout",
     "output_type": "stream",
     "text": [
      "process chain 1\n"
     ]
    },
    {
     "name": "stderr",
     "output_type": "stream",
     "text": [
      "100%|████████████████████████████████████████████████████████████████████████████| 10000/10000 [00:39<00:00, 252.60it/s]\n"
     ]
    },
    {
     "name": "stdout",
     "output_type": "stream",
     "text": [
      "Rubin gelman convergence: [1.00007588 1.00000228 1.00016652 1.00184411 1.000267   0.99999993\n",
      " 1.0000219 ] converged? True\n",
      "Autocorr time: 735.3655152326579 converged? True\n",
      "Iterations: 100000 Max steps: 100000\n",
      "Continue looping? False\n",
      "Autocorr time: 735.3655152326579\n"
     ]
    }
   ],
   "source": [
    "time = photometry.t - np.min(photometry.t)\n",
    "flux = photometry.light_curve\n",
    "\n",
    "mcmc = WrappedMCMC()\n",
    "mcmc.add_parameter(\"t_sec\", Parameter.uniform_prior(np.mean(time), np.min(time), np.max(time)))\n",
    "mcmc.add_parameter(\"fp\", Parameter.uniform_prior(0, -2000, 2000))\n",
    "mcmc.add_parameter(\"rp_rstar\", Parameter.uniform_prior(1e-2, 1e-4, 1e-1))\n",
    "mcmc.add_parameter(\"a_rstar\", Parameter.uniform_prior(20, 5, 40))\n",
    "mcmc.add_parameter(\"b\", Parameter.uniform_prior(0.1, 0, 1))\n",
    "mcmc.add_parameter(\"per\", Parameter.uniform_prior(3, 2, 10))\n",
    "mcmc.add_parameter(\"y_err\", Parameter.uniform_prior(300, 10, 1000))\n",
    "mcmc.set_method(physical_model)\n",
    "\n",
    "res, sampler, _, _ = mcmc.run(time, flux)"
   ]
  },
  {
   "cell_type": "code",
   "execution_count": 29,
   "id": "eefa82ca-3045-4ab2-beb1-15c883ee6f8b",
   "metadata": {},
   "outputs": [
    {
     "data": {
      "text/plain": [
       "[<matplotlib.lines.Line2D at 0x7f2b3a6aa920>]"
      ]
     },
     "execution_count": 29,
     "metadata": {},
     "output_type": "execute_result"
    },
    {
     "data": {
      "image/png": "[encoded data removed]",
      "text/plain": [
       "<Figure size 640x480 with 1 Axes>"
      ]
     },
     "metadata": {},
     "output_type": "display_data"
    }
   ],
   "source": [
    "params = np.array(res)[:-1,0]\n",
    "model_flux = physical_model(time, *params)\n",
    "plt.plot(time, model_flux)\n",
    "plt.plot(time, flux)"
   ]
  },
  {
   "cell_type": "code",
   "execution_count": 30,
   "id": "7939a846-ba5b-4729-b88a-bedd763ecdc9",
   "metadata": {},
   "outputs": [
    {
     "name": "stdout",
     "output_type": "stream",
     "text": [
      "[ 0.0914436  -0.08647393  0.04569242  6.8761726   0.29248914  8.34083752]\n"
     ]
    }
   ],
   "source": [
    "print(params)"
   ]
  },
  {
   "cell_type": "code",
   "execution_count": null,
   "id": "c4ae85b4-4f51-4031-a093-d0e76b14726c",
   "metadata": {},
   "outputs": [],
   "source": []
  }
 ],
 "metadata": {
  "kernelspec": {
   "display_name": "Python 3 (ipykernel)",
   "language": "python",
   "name": "python3"
  },
  "language_info": {
   "codemirror_mode": {
    "name": "ipython",
    "version": 3
   },
   "file_extension": ".py",
   "mimetype": "text/x-python",
   "name": "python",
   "nbconvert_exporter": "python",
   "pygments_lexer": "ipython3",
   "version": "3.10.14"
  }
 },
 "nbformat": 4,
 "nbformat_minor": 5
}
