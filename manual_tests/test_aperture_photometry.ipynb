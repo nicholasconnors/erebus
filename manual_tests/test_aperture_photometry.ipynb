{
 "cells": [
  {
   "cell_type": "markdown",
   "id": "b699d149-9cfd-4f4d-8573-e63c05d75267",
   "metadata": {},
   "source": [
    "# Test Aperture Photometry\n",
    "\n",
    "Tests that WrappedFits is able to load a local directory of calints files, and that PhotometryData is then able to extract the raw flux from it."
   ]
  },
  {
   "cell_type": "code",
   "execution_count": 2,
   "id": "5ab53d14-5a71-46cd-b55d-ba276fd5afae",
   "metadata": {},
   "outputs": [],
   "source": [
    "import sys\n",
    "import os\n",
    "directory = os.path.abspath(os.path.dirname(os.getcwd()) + \"/src\")\n",
    "sys.path.append(directory)\n",
    "\n",
    "from erebus.photometry_data import PhotometryData\n",
    "from erebus.wrapped_fits import WrappedFits\n",
    "from erebus.utility import fits_file_utils as f_utils\n",
    "import matplotlib.pyplot as plt"
   ]
  },
  {
   "cell_type": "code",
   "execution_count": 3,
   "id": "bd0daf08-d192-4296-8a07-93a0d8433121",
   "metadata": {},
   "outputs": [],
   "source": [
    "folder = \"./mast_lhs1478b\"\n",
    "visits = f_utils.get_fits_files_visits_in_folder(folder)"
   ]
  },
  {
   "cell_type": "markdown",
   "id": "18234c79-7504-4340-8ac1-60f38cdb7b5d",
   "metadata": {},
   "source": [
    "## Load directly from calints via util method"
   ]
  },
  {
   "cell_type": "code",
   "execution_count": 4,
   "id": "7e542d0f-a8b7-4614-bfbc-cb3afe855a6f",
   "metadata": {},
   "outputs": [
    {
     "name": "stdout",
     "output_type": "stream",
     "text": [
      "Loading data from calints in ./mast_lhs1478b\n",
      "Loading 5 segments\n",
      "INT_TIMES format: (1, 60329.22548765673, 60329.225555258396, 60329.22562286005, 60329.228486335065, 60329.228553933965, 60329.228621532864)\n",
      "Loaded segment 1\n",
      "INT_TIMES format: (235, 60329.25793645459, 60329.258004056246, 60329.25807165791, 60329.26093380684, 60329.261001405735, 60329.261069004635)\n",
      "Loaded segment 2\n",
      "INT_TIMES format: (469, 60329.29038525245, 60329.29045285411, 60329.290520455776, 60329.2933812779, 60329.2934488768, 60329.2935164757)\n",
      "Loaded segment 3\n",
      "INT_TIMES format: (703, 60329.32283405031, 60329.322901651976, 60329.32296925363, 60329.32582874826, 60329.32589634715, 60329.325963946045)\n",
      "Loaded segment 4\n",
      "INT_TIMES format: (937, 60329.35528284817, 60329.35535044983, 60329.35541805149, 60329.35827621789, 60329.35834381678, 60329.35841141568)\n",
      "Loaded segment 5\n",
      "Sorting data\n"
     ]
    }
   ],
   "source": [
    "frames, time = f_utils.load_all_calints_for_visit(folder, visits[0])"
   ]
  },
  {
   "cell_type": "code",
   "execution_count": 5,
   "id": "eea78552-e793-4009-9c9c-834203d8dc4d",
   "metadata": {},
   "outputs": [
    {
     "data": {
      "image/png": "[encoded data removed]",
      "text/plain": [
       "<Figure size 640x480 with 1 Axes>"
      ]
     },
     "metadata": {},
     "output_type": "display_data"
    }
   ],
   "source": [
    "plt.imshow(frames[0])\n",
    "plt.show()"
   ]
  },
  {
   "cell_type": "markdown",
   "id": "683ae308-7446-4cdb-bd0e-479994ddf111",
   "metadata": {},
   "source": [
    "## Load using wrapped fits and extract photometry"
   ]
  },
  {
   "cell_type": "code",
   "execution_count": null,
   "id": "e82eaab5-a302-4efa-9b04-0ed39c5f5499",
   "metadata": {},
   "outputs": [
    {
     "name": "stdout",
     "output_type": "stream",
     "text": [
      "Loading data from calints in ./mast_lhs1478b\n",
      "Loading 5 segments\n",
      "INT_TIMES format: (1, 60329.22548765673, 60329.225555258396, 60329.22562286005, 60329.228486335065, 60329.228553933965, 60329.228621532864)\n",
      "Loaded segment 1\n",
      "INT_TIMES format: (235, 60329.25793645459, 60329.258004056246, 60329.25807165791, 60329.26093380684, 60329.261001405735, 60329.261069004635)\n",
      "Loaded segment 2\n",
      "INT_TIMES format: (469, 60329.29038525245, 60329.29045285411, 60329.290520455776, 60329.2933812779, 60329.2934488768, 60329.2935164757)\n",
      "Loaded segment 3\n",
      "INT_TIMES format: (703, 60329.32283405031, 60329.322901651976, 60329.32296925363, 60329.32582874826, 60329.32589634715, 60329.325963946045)\n",
      "Loaded segment 4\n",
      "INT_TIMES format: (937, 60329.35528284817, 60329.35535044983, 60329.35541805149, 60329.35827621789, 60329.35834381678, 60329.35841141568)\n",
      "Loaded segment 5\n",
      "Sorting data\n",
      "Found star at: 127, 127\n",
      "Cleaning 964 frames\n"
     ]
    }
   ],
   "source": [
    "fits = WrappedFits(folder, visits[0], force_clear_cache=True)\n",
    "photometry = PhotometryData(fits, 5, (12,20), force_clear_cache=True)"
   ]
  },
  {
   "cell_type": "code",
   "execution_count": null,
   "id": "e567194c-de62-4430-9e58-ac61e6463960",
   "metadata": {},
   "outputs": [],
   "source": [
    "plt.plot(photometry.time[20:-40], photometry.raw_flux[20:-40], linestyle='', marker='.')\n",
    "plt.show()"
   ]
  },
  {
   "cell_type": "markdown",
   "id": "03a8b8b3-c59c-4c7d-bc38-9c94b4c76b43",
   "metadata": {},
   "source": [
    "## Load from cache"
   ]
  },
  {
   "cell_type": "code",
   "execution_count": null,
   "id": "539610ab-6718-4390-b404-4d281a577da1",
   "metadata": {},
   "outputs": [],
   "source": [
    "fits = WrappedFits(folder, visits[0], force_clear_cache=False)\n",
    "photometry = PhotometryData(fits, 5, (12,20), force_clear_cache=False)\n",
    "plt.plot(photometry.time[20:-40], photometry.raw_flux[20:-40], linestyle='', marker='.')\n",
    "plt.show()"
   ]
  },
  {
   "cell_type": "code",
   "execution_count": null,
   "id": "10cf0c99-543c-4bf4-824f-a4bcbe86b2be",
   "metadata": {},
   "outputs": [],
   "source": []
  },
  {
   "cell_type": "code",
   "execution_count": null,
   "id": "855ccd10-71bd-4511-8cba-b7de71a85e02",
   "metadata": {},
   "outputs": [],
   "source": []
  }
 ],
 "metadata": {
  "kernelspec": {
   "display_name": "Python 3 (ipykernel)",
   "language": "python",
   "name": "python3"
  },
  "language_info": {
   "codemirror_mode": {
    "name": "ipython",
    "version": 3
   },
   "file_extension": ".py",
   "mimetype": "text/x-python",
   "name": "python",
   "nbconvert_exporter": "python",
   "pygments_lexer": "ipython3",
   "version": "3.10.14"
  }
 },
 "nbformat": 4,
 "nbformat_minor": 5
}
