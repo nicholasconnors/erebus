{
 "cells": [
  {
   "cell_type": "code",
   "execution_count": 1,
   "id": "86a563e6-e019-4213-b880-42b719989b00",
   "metadata": {},
   "outputs": [],
   "source": [
    "from erebus.utility.h5_serializable_file import H5Serializable\n",
    "import erebus.utility.utils as utils \n",
    "from uncertainties import ufloat\n",
    "from erebus.photometry_data import PhotometryData\n",
    "from erebus.utility.run_cfg import ErebusRunConfig\n",
    "from erebus.erebus import Erebus\n",
    "import numpy as np\n",
    "import matplotlib.pyplot as plt\n",
    "from erebus.utility.bayesian_parameter import Parameter\n",
    "import erebus.plotting as plotting\n",
    "from erebus.individual_fit_results import IndividualFitResults\n",
    "import os"
   ]
  },
  {
   "cell_type": "code",
   "execution_count": 2,
   "id": "5681f451-5191-4651-a33d-f705a5ae0ff0",
   "metadata": {},
   "outputs": [
    {
     "name": "stdout",
     "output_type": "stream",
     "text": [
      "Registered custom systematic model\n",
      "Circular orbit: using gaussian prior for t_sec\n",
      "Predicted t_sec: 0.0879+/-0.0004 days from the start of the observation\n",
      "Visit jw03730012001 already ran\n",
      "Circular orbit: using gaussian prior for t_sec\n",
      "Predicted t_sec: 0.0886+/-0.0004 days from the start of the observation\n",
      "Visit jw03730013001 wasn't run yet\n",
      "Circular orbit: using gaussian prior for t_sec_offset\n",
      "Joint fit already ran\n"
     ]
    }
   ],
   "source": [
    "lhs1478b = ErebusRunConfig.load(\"./lhs1478b_run.yaml\")\n",
    "lhs1478b.fit_exponential = False\n",
    "lhs1478b.fit_fnpca = False\n",
    "\n",
    "# Recreating the built-in exponential fit but using the custom systematic feature\n",
    "def custom_systematic(x, p1, p2):\n",
    "\treturn (p1 * np.exp(p2 * x)) + 1\n",
    "\n",
    "params = {\n",
    "\t\"p1\": Parameter.uniform_prior(0.01, -0.1, 0.1),\n",
    "\t\"p2\": Parameter.uniform_prior(-60.0, -200.0, -1.0)\n",
    "}\n",
    "\n",
    "lhs1478b.set_custom_systematic_model(custom_systematic, params)\n",
    "\n",
    "erebus = Erebus(lhs1478b, force_clear_cache=False)"
   ]
  },
  {
   "cell_type": "code",
   "execution_count": 3,
   "id": "3d968ed1-438d-4baa-80e6-984d1a8f581c",
   "metadata": {},
   "outputs": [
    {
     "name": "stdout",
     "output_type": "stream",
     "text": [
      "Initial guesses: [0.08793104333977175, 0.0002, 2458786.75425, 0.0462, 16.119, 1.9495378, 87.452, 0.001, 1e-06, 0.01, -60.0, 0.0004] variation: [0.00021000250147319675, 0.000325, 0.00021, 0.00055, 0.047, 2.05e-06, 0.026, 0.49975, 0.0024997500000000002, 0.022500000000000003, 14.75, 0.0001]\n",
      "Initial likelihood: -5844.168438225088\n",
      "Fitting for 12 parameters\n",
      "Moved away from starting positions\n",
      "Initial guesses shape: (2, 64, 12)\n",
      "Mean likelihood after moving: 5267.615459118031\n",
      "process chain 0\n"
     ]
    },
    {
     "name": "stderr",
     "output_type": "stream",
     "text": [
      "100%|█████████████████████████████████████████████████████████████████████████████| 10000/10000 [02:12<00:00, 75.72it/s]\n"
     ]
    },
    {
     "name": "stdout",
     "output_type": "stream",
     "text": [
      "process chain 1\n"
     ]
    },
    {
     "name": "stderr",
     "output_type": "stream",
     "text": [
      "100%|█████████████████████████████████████████████████████████████████████████████| 10000/10000 [02:16<00:00, 73.05it/s]\n"
     ]
    },
    {
     "name": "stdout",
     "output_type": "stream",
     "text": [
      "Rubin gelman convergence: [1.00066994 1.00080049 1.00000575 1.00000979 1.00000143 1.00157784\n",
      " 0.99999844 1.00009328 1.00026203 1.00007143 1.00012369 1.00000054] converged? True\n",
      "Autocorr time: 130.50494548492216 converged? True\n",
      "Iterations: 10000 Max steps: 200000\n",
      "Continue looping? False\n",
      "Autocorr time: 130.50494548492216\n",
      "{'t_sec': 0.08798691909651062+/-0.000395478373527991, 'fp': -0.00015801134623662233+/-6.759605975814484e-05, 't0': 2458786.754254612+/-0.0004166953731328249, 'rp_rstar': 0.04618987665107269+/-0.0010836802479301764, 'a_rstar': 16.115379982513787+/-0.0933757063776195, 'p': 1.9495379539446844+/-4.0232060392053626e-06, 'inc': 87.45494150910585+/-0.04980576769617784, 'ecc': 0.0+/-0, 'w': 0.0+/-0, 'pc1': 0.0+/-0, 'pc2': 0.0+/-0, 'pc3': 0.0+/-0, 'pc4': 0.0+/-0, 'pc5': 0.0+/-0, 'exp1': 0.0+/-0, 'exp2': 0.0+/-0, 'a': -0.005495104774398106+/-0.0012744153420197885, 'b': 0.0002417106871930142+/-0.00012558695962990187, 'p1': 0.0035697490063727353+/-0.00021721847611416646, 'p2': -89.84266597116395+/-10.750239851579245, 'y_err': 0.0007599403742485448+/-1.796897592612316e-05}\n",
      "Initial guesses: [0.0002, 0.001, 1e-06, 0.01, -60.0, 0.001, 1e-06, 0.01, -60.0, 0.0004] variation: [0.000325, 0.49975, 0.0024997500000000002, 0.022500000000000003, 14.75, 0.49975, 0.0024997500000000002, 0.022500000000000003, 14.75, 0.0001]\n",
      "Initial likelihood: 2426.814946205399\n",
      "Fitting for 10 parameters\n",
      "Moved away from starting positions\n",
      "Initial guesses shape: (2, 80, 10)\n",
      "Mean likelihood after moving: 2809.340201579222\n",
      "process chain 0\n"
     ]
    },
    {
     "name": "stderr",
     "output_type": "stream",
     "text": [
      "100%|█████████████████████████████████████████████████████████████████████████████| 10000/10000 [04:27<00:00, 37.37it/s]\n"
     ]
    },
    {
     "name": "stdout",
     "output_type": "stream",
     "text": [
      "process chain 1\n"
     ]
    },
    {
     "name": "stderr",
     "output_type": "stream",
     "text": [
      "100%|█████████████████████████████████████████████████████████████████████████████| 10000/10000 [04:19<00:00, 38.57it/s]\n"
     ]
    },
    {
     "name": "stdout",
     "output_type": "stream",
     "text": [
      "The chain is shorter than 50 times the integrated autocorrelation time for 9 parameter(s). Use this estimate with caution and run a longer chain!\n",
      "N/50 = 200;\n",
      "tau: [217.18307501 223.93230763 232.6908235  226.26059063 219.63328886\n",
      " 206.68213164 211.4773189  208.24651902 208.1347708  198.57414391]\n",
      "Rubin gelman convergence: [0.99999882 1.0008119  1.00045792 1.00063405 1.00010684 1.00043786\n",
      " 1.00010638 1.00011351 1.00023001 1.0016367 ] converged? True\n",
      "Autocorr time: inf converged? False\n",
      "Iterations: 10000 Max steps: 200000\n",
      "Continue looping? True\n",
      "process chain 0\n"
     ]
    },
    {
     "name": "stderr",
     "output_type": "stream",
     "text": [
      "100%|█████████████████████████████████████████████████████████████████████████████| 10000/10000 [04:12<00:00, 39.53it/s]\n"
     ]
    },
    {
     "name": "stdout",
     "output_type": "stream",
     "text": [
      "process chain 1\n"
     ]
    },
    {
     "name": "stderr",
     "output_type": "stream",
     "text": [
      "100%|█████████████████████████████████████████████████████████████████████████████| 10000/10000 [04:01<00:00, 41.41it/s]\n"
     ]
    },
    {
     "name": "stdout",
     "output_type": "stream",
     "text": [
      "Rubin gelman convergence: [0.99999938 1.00009932 1.00003646 1.00021038 1.00003615 1.0000774\n",
      " 1.00000303 1.00031085 1.0001143  1.00000983] converged? True\n",
      "Autocorr time: 244.2338583593633 converged? True\n",
      "Iterations: 20000 Max steps: 200000\n",
      "Continue looping? False\n",
      "Autocorr time: 244.2338583593633\n",
      "{'t_sec_offset': 0.0+/-0, 'fp': 1.3638534991150448e-05+/-6.363787478950418e-05, 't0': 2458786.75425+/-0, 'rp_rstar': 0.0462+/-0, 'a_rstar': 16.119+/-0, 'p': 1.9495378+/-0, 'inc': 87.452+/-0, 'ecc': 0.0+/-0, 'w': 0.0+/-0, 'pc1_0': 0.0+/-0, 'pc2_0': 0.0+/-0, 'pc3_0': 0.0+/-0, 'pc4_0': 0.0+/-0, 'pc5_0': 0.0+/-0, 'exp1_0': 0.0+/-0, 'exp2_0': 0.0+/-0, 'a_0': -0.006553383179634295+/-0.0009587557100709894, 'b_0': 0.0004071654623512295+/-9.480597231647774e-05, 'p1_0': -7.62955162031155e-05+/-0.06863564687364287, 'p2_0': -101.1543393637738+/-67.34273776395331, 'pc1_1': 0.0+/-0, 'pc2_1': 0.0+/-0, 'pc3_1': 0.0+/-0, 'pc4_1': 0.0+/-0, 'pc5_1': 0.0+/-0, 'exp1_1': 0.0+/-0, 'exp2_1': 0.0+/-0, 'a_1': -0.015737880105323558+/-0.0009537876109355818, 'b_1': 0.0010490878472644285+/-9.50215013719053e-05, 'p1_1': -7.524797295825614e-05+/-0.06732020597550108, 'p2_1': -101.28206004725787+/-67.83761882704096, 'y_err': 0.0005107755576846194+/-1.6881035389403162e-05}\n"
     ]
    }
   ],
   "source": [
    "erebus.individual_fits[0].run()\n",
    "erebus.joint_fit.run()"
   ]
  },
  {
   "cell_type": "code",
   "execution_count": 4,
   "id": "463fcc4f-deeb-43be-827a-8a92af6c3679",
   "metadata": {},
   "outputs": [
    {
     "name": "stdout",
     "output_type": "stream",
     "text": [
      "Offset:  0.0 hours\n",
      "0.00357+/-0.00022\n"
     ]
    }
   ],
   "source": [
    "if not os.path.isdir(\"./test_output/custom/\"):\n",
    "\tos.makedirs(\"./test_output/custom/\")\n",
    "\n",
    "plotting.plot_fnpca_individual_fit(erebus.individual_fits[0], \"./test_output/custom/\")\n",
    "plotting.plot_joint_fit(erebus.joint_fit, \"./test_output/custom/\")\n",
    "res = IndividualFitResults(erebus.individual_fits[0])\n",
    "print(res.results['p1'])"
   ]
  },
  {
   "cell_type": "code",
   "execution_count": 5,
   "id": "93cfaaa3-cf6f-4c2f-aa1e-78ac6463179f",
   "metadata": {},
   "outputs": [
    {
     "name": "stdout",
     "output_type": "stream",
     "text": [
      "Circular orbit: using gaussian prior for t_sec\n",
      "Predicted t_sec: 0.0879+/-0.0004 days from the start of the observation\n",
      "Visit jw03730012001 already ran\n",
      "Circular orbit: using gaussian prior for t_sec\n",
      "Predicted t_sec: 0.0886+/-0.0004 days from the start of the observation\n",
      "Visit jw03730013001 already ran\n",
      "Circular orbit: using gaussian prior for t_sec_offset\n",
      "Joint fit already ran\n",
      "Initial guesses: [0.08793104333977175, 0.0002, 2458786.75425, 0.0462, 16.119, 1.9495378, 87.452, 0.1, 0.1, 0.1, 0.1, 0.1, 0.001, 1e-06, 0.0004] variation: [0.00021000250147319675, 0.000325, 0.00021, 0.00055, 0.047, 2.05e-06, 0.026, 2.475, 2.475, 2.475, 2.475, 2.475, 0.49975, 0.0024997500000000002, 0.0001]\n",
      "Initial likelihood: 3124.8668630132834\n",
      "Fitting for 15 parameters\n",
      "Moved away from starting positions\n",
      "Initial guesses shape: (2, 64, 15)\n",
      "Mean likelihood after moving: 5214.540885013714\n",
      "process chain 0\n"
     ]
    },
    {
     "name": "stderr",
     "output_type": "stream",
     "text": [
      "100%|█████████████████████████████████████████████████████████████████████████████| 10000/10000 [01:55<00:00, 86.66it/s]\n"
     ]
    },
    {
     "name": "stdout",
     "output_type": "stream",
     "text": [
      "process chain 1\n"
     ]
    },
    {
     "name": "stderr",
     "output_type": "stream",
     "text": [
      "100%|█████████████████████████████████████████████████████████████████████████████| 10000/10000 [01:55<00:00, 86.93it/s]\n"
     ]
    },
    {
     "name": "stdout",
     "output_type": "stream",
     "text": [
      "Rubin gelman convergence: [1.00071659 1.00005848 1.00003852 1.00113554 1.00051905 1.00004873\n",
      " 1.00092595 1.00014434 1.00010153 1.00002913 1.00128148 1.00109779\n",
      " 1.00002661 1.00000075 1.00013029] converged? True\n",
      "Autocorr time: 170.47099761902865 converged? True\n",
      "Iterations: 10000 Max steps: 200000\n",
      "Continue looping? False\n",
      "Autocorr time: 170.47099761902865\n",
      "{'t_sec': 0.08800205480337717+/-0.0004030908319270221, 'fp': -0.0001420416526734129+/-7.165449503624847e-05, 't0': 2458786.7542613028+/-0.0004162632394582033, 'rp_rstar': 0.04622447539569753+/-0.0011194291360748995, 'a_rstar': 16.1155954974507+/-0.09278326202276688, 'p': 1.9495377636010838+/-4.066059149265833e-06, 'inc': 87.4517896883891+/-0.0506531722532344, 'ecc': 0.0+/-0, 'w': 0.0+/-0, 'pc1': 1.1581306939386844+/-0.12207250088145694, 'pc2': 1.0957120599695744+/-0.09694806954642532, 'pc3': 0.03904589785701715+/-0.20905053522368156, 'pc4': 0.1338729269175713+/-0.18903142358499309, 'pc5': -0.1486401971671886+/-0.2258191264216163, 'exp1': 0.0+/-0, 'exp2': 0.0+/-0, 'a': -0.006800861674144052+/-0.0012326898000210636, 'b': 0.0005938931184423096+/-0.00010584912416125494, 'y_err': 0.0008059353180054521+/-1.8881694972767375e-05}\n",
      "Initial guesses: [0.0002, 0.1, 0.1, 0.1, 0.1, 0.1, 0.001, 1e-06, 0.1, 0.1, 0.1, 0.1, 0.1, 0.001, 1e-06, 0.0004] variation: [0.000325, 2.475, 2.475, 2.475, 2.475, 2.475, 0.49975, 0.0024997500000000002, 2.475, 2.475, 2.475, 2.475, 2.475, 0.49975, 0.0024997500000000002, 0.0001]\n",
      "Initial likelihood: 2328.0039633959323\n",
      "Fitting for 16 parameters\n",
      "Moved away from starting positions\n",
      "Initial guesses shape: (2, 80, 16)\n",
      "Mean likelihood after moving: 2919.895116810555\n",
      "process chain 0\n"
     ]
    },
    {
     "name": "stderr",
     "output_type": "stream",
     "text": [
      "100%|█████████████████████████████████████████████████████████████████████████████| 10000/10000 [05:54<00:00, 28.22it/s]\n"
     ]
    },
    {
     "name": "stdout",
     "output_type": "stream",
     "text": [
      "process chain 1\n"
     ]
    },
    {
     "name": "stderr",
     "output_type": "stream",
     "text": [
      "100%|█████████████████████████████████████████████████████████████████████████████| 10000/10000 [05:45<00:00, 28.95it/s]\n"
     ]
    },
    {
     "name": "stdout",
     "output_type": "stream",
     "text": [
      "The chain is shorter than 50 times the integrated autocorrelation time for 4 parameter(s). Use this estimate with caution and run a longer chain!\n",
      "N/50 = 200;\n",
      "tau: [175.68066188 174.59579264 178.50423063 173.24836427 192.45405861\n",
      " 166.13972786 170.16242942 166.45172813 206.01976727 185.82444063\n",
      " 206.6724228  186.44016885 178.87867083 212.30259166 200.02012166\n",
      " 184.19888619]\n",
      "Rubin gelman convergence: [1.00029591 1.00008157 1.00025495 1.00001308 1.00014235 1.00019722\n",
      " 1.00003197 1.00007584 1.00031643 1.00003167 1.00009832 1.00027411\n",
      " 1.00001272 1.00000824 1.00019442 1.00054322] converged? True\n",
      "Autocorr time: inf converged? False\n",
      "Iterations: 10000 Max steps: 200000\n",
      "Continue looping? True\n",
      "process chain 0\n"
     ]
    },
    {
     "name": "stderr",
     "output_type": "stream",
     "text": [
      "100%|█████████████████████████████████████████████████████████████████████████████| 10000/10000 [06:48<00:00, 24.45it/s]\n"
     ]
    },
    {
     "name": "stdout",
     "output_type": "stream",
     "text": [
      "process chain 1\n"
     ]
    },
    {
     "name": "stderr",
     "output_type": "stream",
     "text": [
      "100%|█████████████████████████████████████████████████████████████████████████████| 10000/10000 [06:51<00:00, 24.32it/s]\n"
     ]
    },
    {
     "name": "stdout",
     "output_type": "stream",
     "text": [
      "Rubin gelman convergence: [1.00001003 1.0006098  1.00029646 1.00013664 1.00004327 0.99999941\n",
      " 1.00073542 1.00025389 1.00002283 1.00004075 1.00002311 1.00027799\n",
      " 1.00003635 1.0000556  1.00005767 1.00005489] converged? True\n",
      "Autocorr time: 205.7153116654358 converged? True\n",
      "Iterations: 20000 Max steps: 200000\n",
      "Continue looping? False\n",
      "Autocorr time: 205.7153116654358\n",
      "{'t_sec_offset': 0.0+/-0, 'fp': -1.0556481377672776e-05+/-5.191323987841949e-05, 't0': 2458786.75425+/-0, 'rp_rstar': 0.0462+/-0, 'a_rstar': 16.119+/-0, 'p': 1.9495378+/-0, 'inc': 87.452+/-0, 'ecc': 0.0+/-0, 'w': 0.0+/-0, 'pc1_0': -0.04051435887555971+/-0.14656409811131388, 'pc2_0': -0.10506569726575413+/-0.11456253932536217, 'pc3_0': 0.3465189248591566+/-0.30844347394232785, 'pc4_0': -0.28981560118638805+/-0.40330982962632833, 'pc5_0': -0.5579645116556207+/-0.3563629638699043, 'exp1_0': 0.0+/-0, 'exp2_0': 0.0+/-0, 'a_0': -0.007431071669896639+/-0.001477698193134351, 'b_0': 0.0004845405837854861+/-0.0001093173880753659, 'pc1_1': -0.7227034660255394+/-0.0588195927371557, 'pc2_1': 0.015700053665932842+/-0.1443966153072542, 'pc3_1': -0.28651172134783737+/-0.352730375439802, 'pc4_1': 0.5696982597375424+/-0.3909068538318549, 'pc5_1': -0.19969046109739091+/-0.35736059340413173, 'exp1_1': 0.0+/-0, 'exp2_1': 0.0+/-0, 'a_1': -0.0019528861056738957+/-0.001816279561597545, 'b_1': 0.0001779792628830842+/-0.000127154205355683, 'y_err': 0.00040106711861770107+/-1.3273463105141318e-05}\n",
      "Offset:  0.0 hours\n"
     ]
    }
   ],
   "source": [
    "# Double check still works normally\n",
    "lhs1478b = ErebusRunConfig.load(\"./lhs1478b_run.yaml\")\n",
    "erebus = Erebus(lhs1478b, force_clear_cache=False)\n",
    "erebus.individual_fits[0].run()\n",
    "erebus.joint_fit.run()\n",
    "\n",
    "if not os.path.isdir(\"./test_output/original/\"):\n",
    "\tos.makedirs(\"./test_output/original/\")\n",
    "\t\n",
    "plotting.plot_fnpca_individual_fit(erebus.individual_fits[0], \"./test_output/original/\")\n",
    "plotting.plot_joint_fit(erebus.joint_fit, \"./test_output/original/\")"
   ]
  },
  {
   "cell_type": "code",
   "execution_count": null,
   "id": "19ff458d-f5f3-407b-9534-6fc941b83c16",
   "metadata": {},
   "outputs": [],
   "source": []
  }
 ],
 "metadata": {
  "kernelspec": {
   "display_name": "Python 3 (ipykernel)",
   "language": "python",
   "name": "python3"
  },
  "language_info": {
   "codemirror_mode": {
    "name": "ipython",
    "version": 3
   },
   "file_extension": ".py",
   "mimetype": "text/x-python",
   "name": "python",
   "nbconvert_exporter": "python",
   "pygments_lexer": "ipython3",
   "version": "3.10.14"
  }
 },
 "nbformat": 4,
 "nbformat_minor": 5
}
