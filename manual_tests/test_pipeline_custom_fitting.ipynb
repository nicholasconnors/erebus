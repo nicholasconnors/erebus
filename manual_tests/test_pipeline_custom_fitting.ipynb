{
 "cells": [
  {
   "cell_type": "code",
   "execution_count": 1,
   "id": "86a563e6-e019-4213-b880-42b719989b00",
   "metadata": {},
   "outputs": [],
   "source": [
    "from erebus.utility.h5_serializable_file import H5Serializable\n",
    "import erebus.utility.utils as utils \n",
    "from uncertainties import ufloat\n",
    "from erebus.photometry_data import PhotometryData\n",
    "from erebus.utility.run_cfg import ErebusRunConfig\n",
    "from erebus.erebus import Erebus\n",
    "import numpy as np\n",
    "import matplotlib.pyplot as plt\n",
    "from erebus.utility.bayesian_parameter import Parameter\n",
    "import erebus.plotting as plotting\n",
    "from erebus.individual_fit_results import IndividualFitResults"
   ]
  },
  {
   "cell_type": "code",
   "execution_count": 2,
   "id": "5681f451-5191-4651-a33d-f705a5ae0ff0",
   "metadata": {},
   "outputs": [],
   "source": [
    "lhs1478b = ErebusRunConfig.load(\"./lhs1478b_run.yaml\")\n",
    "lhs1478b.fit_exponential = False\n",
    "lhs1478b.fit_fnpca = False\n",
    "erebus = Erebus(lhs1478b, force_clear_cache=False)\n",
    "def custom_systematic_2(x, p1):\n",
    "\treturn p1\n",
    "\n",
    "params = {\n",
    "\t\"p1\": Parameter.uniform_prior(0, -1, 1)\n",
    "}\n",
    "erebus.set_custom_systematic_model(custom_systematic_2, params)"
   ]
  },
  {
   "cell_type": "code",
   "execution_count": 5,
   "id": "3d968ed1-438d-4baa-80e6-984d1a8f581c",
   "metadata": {},
   "outputs": [
    {
     "name": "stdout",
     "output_type": "stream",
     "text": [
      "Finished run post init\n",
      "Initial guesses: [0.08793104333977175, 0.0002, 2458786.75425, 0.0462, 16.119, 1.9495378, 87.452, 0.001, 1e-06, 0.0, 0.0004] variation: [0.00021000250147319675, 0.000325, 0.00021, 0.00055, 0.047, 2.05e-06, 0.026, 0.49975, 0.0024997500000000002, 0.25, 0.0001]\n",
      "Initial likelihood: -2856486669.47651\n",
      "Fitting for 11 parameters\n",
      "Moved away from starting positions\n",
      "Initial guesses shape: (2, 64, 11)\n",
      "Mean likelihood after moving: 5129.365811906507\n",
      "process chain 0\n"
     ]
    },
    {
     "name": "stderr",
     "output_type": "stream",
     "text": [
      "100%|█████████████████████████████████████████████████████████████████████████████| 10000/10000 [01:41<00:00, 98.05it/s]\n"
     ]
    },
    {
     "name": "stdout",
     "output_type": "stream",
     "text": [
      "process chain 1\n"
     ]
    },
    {
     "name": "stderr",
     "output_type": "stream",
     "text": [
      "100%|█████████████████████████████████████████████████████████████████████████████| 10000/10000 [01:44<00:00, 95.64it/s]\n"
     ]
    },
    {
     "name": "stdout",
     "output_type": "stream",
     "text": [
      "Rubin gelman convergence: [1.00063167 1.00011699 0.99999898 1.00013082 1.00006339 1.00031895\n",
      " 1.00008949 1.00048297 1.00000036 1.00000181 1.00001797] converged? True\n",
      "Autocorr time: 142.18226926876855 converged? True\n",
      "Iterations: 10000 Max steps: 100000\n",
      "Continue looping? False\n",
      "Autocorr time: 142.18226926876855\n",
      "{'t_sec': 0.08801540310578018+/-0.00040768131201996544, 'fp': -0.00012068573580199389+/-7.836764396976425e-05, 't0': 2458786.754251564+/-0.0004151982720941305, 'rp_rstar': 0.04618530311460328+/-0.0010886899263573557, 'a_rstar': 16.117200617867844+/-0.09437173377043528, 'p': 1.9495377224148793+/-4.066799489388373e-06, 'inc': 87.45451330782788+/-0.050784337560386916, 'ecc': 0.0+/-0, 'w': 0.0+/-0, 'pc1': 0.0+/-0, 'pc2': 0.0+/-0, 'pc3': 0.0+/-0, 'pc4': 0.0+/-0, 'pc5': 0.0+/-0, 'exp1': 0.0+/-0, 'exp2': 0.0+/-0, 'a': -0.01632161092556475+/-0.0008544483989676912, 'b': 0.00561638915142215+/-0.0029942983635528513, 'p1': 0.9955761534524559+/-0.0029925556059460234, 'y_err': 0.0008841855155185365+/-2.0335656988923348e-05}\n"
     ]
    }
   ],
   "source": [
    "erebus.individual_fits[0].run()"
   ]
  },
  {
   "cell_type": "code",
   "execution_count": 6,
   "id": "463fcc4f-deeb-43be-827a-8a92af6c3679",
   "metadata": {},
   "outputs": [],
   "source": [
    "plotting.plot_fnpca_individual_fit(erebus.individual_fits[0], \"./test_output/\")\n",
    "res = IndividualFitResults(erebus.individual_fits[0])\n",
    "print(res.results['p1'])"
   ]
  },
  {
   "cell_type": "code",
   "execution_count": 13,
   "id": "93cfaaa3-cf6f-4c2f-aa1e-78ac6463179f",
   "metadata": {},
   "outputs": [
    {
     "name": "stdout",
     "output_type": "stream",
     "text": [
      "Circular orbit: using gaussian prior for t_sec\n",
      "Predicted t_sec: 0.0879+/-0.0004 days from the start of the observation\n",
      "Visit jw03730012001 already ran\n",
      "Circular orbit: using gaussian prior for t_sec\n",
      "Predicted t_sec: 0.0886+/-0.0004 days from the start of the observation\n",
      "Visit jw03730013001 already ran\n",
      "Circular orbit: using gaussian prior for t_sec_offset\n",
      "Joint fit already ran\n",
      "Finished run post init\n",
      "Initial guesses: [0.08793104333977175, 0.0002, 2458786.75425, 0.0462, 16.119, 1.9495378, 87.452, 0.1, 0.1, 0.1, 0.1, 0.1, 0.001, 1e-06, 0.0004] variation: [0.00021000250147319675, 0.000325, 0.00021, 0.00055, 0.047, 2.05e-06, 0.026, 2.475, 2.475, 2.475, 2.475, 2.475, 0.49975, 0.0024997500000000002, 0.0001]\n",
      "Initial likelihood: 3124.8668630132834\n",
      "Fitting for 15 parameters\n",
      "Moved away from starting positions\n",
      "Initial guesses shape: (2, 64, 15)\n",
      "Mean likelihood after moving: 5214.8614660994535\n",
      "process chain 0\n"
     ]
    },
    {
     "name": "stderr",
     "output_type": "stream",
     "text": [
      "100%|█████████████████████████████████████████████████████████████████████████████| 10000/10000 [02:07<00:00, 78.37it/s]\n"
     ]
    },
    {
     "name": "stdout",
     "output_type": "stream",
     "text": [
      "process chain 1\n"
     ]
    },
    {
     "name": "stderr",
     "output_type": "stream",
     "text": [
      "100%|█████████████████████████████████████████████████████████████████████████████| 10000/10000 [02:04<00:00, 80.40it/s]\n"
     ]
    },
    {
     "name": "stdout",
     "output_type": "stream",
     "text": [
      "Rubin gelman convergence: [1.00061392 1.00020605 1.000365   1.00000558 1.00006221 1.00002291\n",
      " 1.00001652 1.00015353 1.00045204 0.99999849 1.00006578 1.00024974\n",
      " 1.00009804 1.00041637 1.00021294] converged? True\n",
      "Autocorr time: 170.22504396198818 converged? True\n",
      "Iterations: 10000 Max steps: 100000\n",
      "Continue looping? False\n",
      "Autocorr time: 170.22504396198818\n",
      "{'t_sec': 0.0880110672070749+/-0.00040461041112624385, 'fp': -0.00014112366548761488+/-7.155004700222701e-05, 't0': 2458786.7542522657+/-0.0004196655936539173, 'rp_rstar': 0.046194932430132375+/-0.0010891015375809263, 'a_rstar': 16.12085607483887+/-0.0937380091519664, 'p': 1.9495377165549912+/-4.056753854952966e-06, 'inc': 87.45210032275051+/-0.04981748134388653, 'ecc': 0.0+/-0, 'w': 0.0+/-0, 'pc1': 1.1565458359863332+/-0.12538565386832634, 'pc2': 1.0976116315424442+/-0.09668066902808137, 'pc3': 0.039668769363088136+/-0.208063525215063, 'pc4': 0.12575436268811033+/-0.19045342209714816, 'pc5': -0.15722234393749007+/-0.2240875573723357, 'exp1': 0.0+/-0, 'exp2': 0.0+/-0, 'a': -0.006779503301007097+/-0.0012373388127395616, 'b': 0.0005918541397732405+/-0.00010675766945913951, 'y_err': 0.0008056477446937332+/-1.858593482049342e-05}\n"
     ]
    }
   ],
   "source": [
    "# Double check still works normally\n",
    "lhs1478b = ErebusRunConfig.load(\"./lhs1478b_run.yaml\")\n",
    "erebus = Erebus(lhs1478b, force_clear_cache=False)\n",
    "erebus.individual_fits[0].run()\n",
    "plotting.plot_fnpca_individual_fit(erebus.individual_fits[0], \"./test_output/\")"
   ]
  },
  {
   "cell_type": "code",
   "execution_count": null,
   "id": "19ff458d-f5f3-407b-9534-6fc941b83c16",
   "metadata": {},
   "outputs": [],
   "source": []
  }
 ],
 "metadata": {
  "kernelspec": {
   "display_name": "Python 3 (ipykernel)",
   "language": "python",
   "name": "python3"
  },
  "language_info": {
   "codemirror_mode": {
    "name": "ipython",
    "version": 3
   },
   "file_extension": ".py",
   "mimetype": "text/x-python",
   "name": "python",
   "nbconvert_exporter": "python",
   "pygments_lexer": "ipython3",
   "version": "3.10.14"
  }
 },
 "nbformat": 4,
 "nbformat_minor": 5
}
