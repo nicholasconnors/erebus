{
 "cells": [
  {
   "cell_type": "markdown",
   "id": "130bfe11-8ba0-4f3d-973c-d6ae4d30813f",
   "metadata": {},
   "source": [
    "# Test planet yaml\n",
    "\n",
    "Planet object will automatically do schema validation"
   ]
  },
  {
   "cell_type": "code",
   "execution_count": 6,
   "id": "55ede8c7-3149-4a1f-8478-af92db810f7d",
   "metadata": {},
   "outputs": [
    {
     "name": "stdout",
     "output_type": "stream",
     "text": [
      "/mnt/c/Users/nicho/Research/GitHub/erebus\n"
     ]
    }
   ],
   "source": [
    "import sys\n",
    "import os\n",
    "directory = os.path.abspath(os.path.dirname(os.getcwd()))\n",
    "print(directory)\n",
    "sys.path.append(directory)\n",
    "\n",
    "from src.erebus.utility.planet import Planet"
   ]
  },
  {
   "cell_type": "code",
   "execution_count": 7,
   "id": "f0e13774-3a73-4dc3-8eb9-0ee8a2a316fb",
   "metadata": {},
   "outputs": [
    {
     "name": "stdout",
     "output_type": "stream",
     "text": [
      "2458786.7543+/-0.0004\n"
     ]
    }
   ],
   "source": [
    "lhs1478b = Planet(\"./lhs1478b.yaml\")\n",
    "print(lhs1478b.t0)"
   ]
  },
  {
   "cell_type": "code",
   "execution_count": null,
   "id": "c535f7d3-9e6e-4594-b888-d49a074d50a1",
   "metadata": {},
   "outputs": [],
   "source": []
  }
 ],
 "metadata": {
  "kernelspec": {
   "display_name": "Python 3 (ipykernel)",
   "language": "python",
   "name": "python3"
  },
  "language_info": {
   "codemirror_mode": {
    "name": "ipython",
    "version": 3
   },
   "file_extension": ".py",
   "mimetype": "text/x-python",
   "name": "python",
   "nbconvert_exporter": "python",
   "pygments_lexer": "ipython3",
   "version": "3.10.14"
  }
 },
 "nbformat": 4,
 "nbformat_minor": 5
}
