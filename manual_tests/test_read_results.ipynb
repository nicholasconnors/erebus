{
 "cells": [
  {
   "cell_type": "markdown",
   "id": "8f522d5c-bf4e-4e11-99a8-276c2cfe879b",
   "metadata": {},
   "source": [
    "# Test read results\n",
    "\n",
    "Must run after run_pipeline"
   ]
  },
  {
   "cell_type": "code",
   "execution_count": 2,
   "id": "d7560b73-6ebb-4e35-9d26-5ff8ad8c7c6f",
   "metadata": {},
   "outputs": [],
   "source": [
    "import sys\n",
    "import os\n",
    "sys.path.append(os.path.abspath(os.path.dirname(os.getcwd())))\n",
    "\n",
    "from src.utility.h5_serializable_file import H5Serializable\n",
    "import src.utility.utils as utils \n",
    "from uncertainties import ufloat\n",
    "from src.photometry_data import PhotometryData\n",
    "from src.utility.run_cfg import ErebusRunConfig\n",
    "from src.erebus import Erebus\n",
    "import numpy as np\n",
    "import matplotlib.pyplot as plt\n",
    "from src.joint_fit_results import JointFitResults\n",
    "from src.individual_fit_results import IndividualFitResults"
   ]
  },
  {
   "cell_type": "code",
   "execution_count": 3,
   "id": "01911e3a-6f2e-40f6-8443-99b1e33c0bdd",
   "metadata": {},
   "outputs": [],
   "source": [
    "joint_fit = JointFitResults.load(\"./test_output/lhs1478b_joint_fit.h5\")\n",
    "print("
   ]
  },
  {
   "cell_type": "code",
   "execution_count": null,
   "id": "e7b6a512-8563-453f-86dc-784e716415e5",
   "metadata": {},
   "outputs": [],
   "source": []
  }
 ],
 "metadata": {
  "kernelspec": {
   "display_name": "Python 3 (ipykernel)",
   "language": "python",
   "name": "python3"
  },
  "language_info": {
   "codemirror_mode": {
    "name": "ipython",
    "version": 3
   },
   "file_extension": ".py",
   "mimetype": "text/x-python",
   "name": "python",
   "nbconvert_exporter": "python",
   "pygments_lexer": "ipython3",
   "version": "3.10.14"
  }
 },
 "nbformat": 4,
 "nbformat_minor": 5
}
