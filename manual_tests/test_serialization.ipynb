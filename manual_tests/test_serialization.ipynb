{
 "cells": [
  {
   "cell_type": "markdown",
   "id": "da466632-64af-4a6a-9d02-64b7c5a63543",
   "metadata": {},
   "source": [
    "# Testing the function of the H5Serializable class"
   ]
  },
  {
   "cell_type": "code",
   "execution_count": 1,
   "id": "cf52e117-01a2-4e08-bbc5-4982bbcd695c",
   "metadata": {},
   "outputs": [],
   "source": [
    "import sys\n",
    "import os\n",
    "sys.path.append(os.path.abspath(os.path.dirname(os.getcwd())) + \"/src\")\n",
    "\n",
    "from erebus.utility.h5_serializable_file import H5Serializable\n",
    "import erebus.utility.utils as utils \n",
    "from uncertainties import ufloat"
   ]
  },
  {
   "cell_type": "code",
   "execution_count": 2,
   "id": "cb6ef9b5-7944-4021-a042-7c3ea2d0f41e",
   "metadata": {},
   "outputs": [],
   "source": [
    "class TestClass(H5Serializable):\n",
    "\tdef __init__(self, val, val2, val3):\n",
    "\t\tself.val = val\n",
    "\t\tself.val2 = val2\n",
    "\t\tself.val3 = val3"
   ]
  },
  {
   "cell_type": "code",
   "execution_count": 3,
   "id": "8ea07df8-1e82-4690-a17b-9393df113f82",
   "metadata": {},
   "outputs": [],
   "source": [
    "test = TestClass(ufloat(1, 2), {\"a\": 100, \"b\": ufloat(4.5, 0.23)}, 2.54)"
   ]
  },
  {
   "cell_type": "code",
   "execution_count": 4,
   "id": "e96afba0-680c-49a0-ad71-0d49ff179f0c",
   "metadata": {},
   "outputs": [],
   "source": [
    "test.save_to_path(\"test.h5\")"
   ]
  },
  {
   "cell_type": "code",
   "execution_count": 5,
   "id": "b8686c88-9de9-4922-b90a-2f52366cc6f7",
   "metadata": {},
   "outputs": [
    {
     "name": "stdout",
     "output_type": "stream",
     "text": [
      "hello world test\n",
      "1.0+/-2.0 {'a': 100, 'b': 4.5+/-0.23} 2.54\n",
      "<class 'uncertainties.core.Variable'> <class 'uncertainties.core.Variable'> <class 'numpy.float64'>\n"
     ]
    }
   ],
   "source": [
    "test2 = TestClass(\"hello\", \"world\", \"test\")\n",
    "print(test2.val, test2.val2, test2.val3)\n",
    "\n",
    "test2.load_from_path(\"test.h5\")\n",
    "print(test2.val, test2.val2, test2.val3)\n",
    "print(type(test2.val), type(test2.val2['b']), type(test2.val3))"
   ]
  },
  {
   "cell_type": "code",
   "execution_count": null,
   "id": "805ab628-4e2b-423c-9431-79b376885ebe",
   "metadata": {},
   "outputs": [],
   "source": []
  },
  {
   "cell_type": "code",
   "execution_count": null,
   "id": "3c243afb-c3d9-457a-a3da-55df0b68c08f",
   "metadata": {},
   "outputs": [],
   "source": []
  },
  {
   "cell_type": "code",
   "execution_count": null,
   "id": "71bef089-dc25-4022-b436-73b50c9fb2a8",
   "metadata": {},
   "outputs": [],
   "source": []
  }
 ],
 "metadata": {
  "kernelspec": {
   "display_name": "Python 3 (ipykernel)",
   "language": "python",
   "name": "python3"
  },
  "language_info": {
   "codemirror_mode": {
    "name": "ipython",
    "version": 3
   },
   "file_extension": ".py",
   "mimetype": "text/x-python",
   "name": "python",
   "nbconvert_exporter": "python",
   "pygments_lexer": "ipython3",
   "version": "3.10.14"
  }
 },
 "nbformat": 4,
 "nbformat_minor": 5
}
