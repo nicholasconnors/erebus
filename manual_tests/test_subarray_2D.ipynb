{
 "cells": [
  {
   "cell_type": "markdown",
   "id": "37561050-67a5-44c4-87da-de1cfee5e2b0",
   "metadata": {},
   "source": [
    "# Test Subarray2D\n",
    "\n",
    "Ensures that the utility method subarray_2D works correctly, then uses it to crop a star out of simulated data."
   ]
  },
  {
   "cell_type": "code",
   "execution_count": null,
   "id": "0df40fcc-e132-4e2b-b125-d6c198e23832",
   "metadata": {},
   "outputs": [],
   "source": [
    "import sys\n",
    "import os\n",
    "sys.path.append(os.path.abspath(os.path.dirname(os.getcwd())) + \"/src\")\n",
    "\n",
    "from erebus.utility import utils\n",
    "from erebus.utility import aperture_photometry_utils as ap_utils"
   ]
  },
  {
   "cell_type": "markdown",
   "id": "c5042961-6c43-4296-a464-421dfccba8d0",
   "metadata": {},
   "source": [
    "Test on plain arrays"
   ]
  },
  {
   "cell_type": "code",
   "execution_count": 1,
   "id": "aa99b9cc-1171-4470-a96c-23262beba834",
   "metadata": {},
   "outputs": [
    {
     "ename": "NameError",
     "evalue": "name 'utils' is not defined",
     "output_type": "error",
     "traceback": [
      "\u001b[0;31m---------------------------------------------------------------------------\u001b[0m",
      "\u001b[0;31mNameError\u001b[0m                                 Traceback (most recent call last)",
      "Cell \u001b[0;32mIn[1], line 3\u001b[0m\n\u001b[1;32m      1\u001b[0m \u001b[38;5;28;01mimport\u001b[39;00m\u001b[38;5;250m \u001b[39m\u001b[38;5;21;01mnumpy\u001b[39;00m\u001b[38;5;250m \u001b[39m\u001b[38;5;28;01mas\u001b[39;00m\u001b[38;5;250m \u001b[39m\u001b[38;5;21;01mnp\u001b[39;00m\n\u001b[1;32m      2\u001b[0m array \u001b[38;5;241m=\u001b[39m np\u001b[38;5;241m.\u001b[39marray([[\u001b[38;5;241m1\u001b[39m, \u001b[38;5;241m2\u001b[39m, \u001b[38;5;241m3\u001b[39m], [\u001b[38;5;241m4\u001b[39m, \u001b[38;5;241m5\u001b[39m, \u001b[38;5;241m6\u001b[39m], [\u001b[38;5;241m7\u001b[39m, \u001b[38;5;241m8\u001b[39m, \u001b[38;5;241m9\u001b[39m], [\u001b[38;5;241m1\u001b[39m, \u001b[38;5;241m2\u001b[39m, \u001b[38;5;241m3\u001b[39m]])\n\u001b[0;32m----> 3\u001b[0m cropped1 \u001b[38;5;241m=\u001b[39m \u001b[43mutils\u001b[49m\u001b[38;5;241m.\u001b[39msubarray_2D(array, \u001b[38;5;241m0\u001b[39m, \u001b[38;5;241m0\u001b[39m, \u001b[38;5;241m3\u001b[39m)\n\u001b[1;32m      4\u001b[0m cropped2 \u001b[38;5;241m=\u001b[39m utils\u001b[38;5;241m.\u001b[39msubarray_2D(array, \u001b[38;5;241m1\u001b[39m, \u001b[38;5;241m1\u001b[39m, \u001b[38;5;241m5\u001b[39m)\n\u001b[1;32m      5\u001b[0m \u001b[38;5;28mprint\u001b[39m(\u001b[38;5;124m\"\u001b[39m\u001b[38;5;124mBefore:\u001b[39m\u001b[38;5;130;01m\\n\u001b[39;00m\u001b[38;5;124m\"\u001b[39m, array)\n",
      "\u001b[0;31mNameError\u001b[0m: name 'utils' is not defined"
     ]
    }
   ],
   "source": [
    "import numpy as np\n",
    "array = np.array([[1, 2, 3], [4, 5, 6], [7, 8, 9], [1, 2, 3]])\n",
    "cropped1 = utils.subarray_2D(array, 0, 0, 3)\n",
    "cropped2 = utils.subarray_2D(array, 1, 1, 5)\n",
    "print(\"Before:\\n\", array)\n",
    "print(\"Top corner with padding:\\n\", cropped1)\n",
    "print(\"Center with padding:\\n\", cropped2)"
   ]
  },
  {
   "cell_type": "markdown",
   "id": "25653d01-f447-47ba-adef-251454e99ad0",
   "metadata": {},
   "source": [
    "Test on simulated star data"
   ]
  },
  {
   "cell_type": "code",
   "execution_count": null,
   "id": "54b79f6e-a39e-43b7-96b7-d292fa58ed46",
   "metadata": {},
   "outputs": [],
   "source": [
    "import matplotlib.pyplot as plt\n",
    "\n",
    "x = np.linspace(0, 200, 200)\n",
    "y = np.linspace(0, 200, 200)\n",
    "x, y = np.meshgrid(x, y)\n",
    "initial_values = [4, 140, 120, 5, 0]\n",
    "z = utils.gaussian_2D((x, y), *initial_values).reshape(len(x), len(y))\n",
    "z = z + np.random.rand(*z.shape) \n",
    "\n",
    "# Find star\n",
    "star_x, star_y = ap_utils.fit_star_position(z, (x,y))\n",
    "\n",
    "plt.imshow(z)\n",
    "plt.plot([star_x], [star_y], marker='x', color='white')\n",
    "plt.show()"
   ]
  },
  {
   "cell_type": "markdown",
   "id": "6ce70a5e-260b-4d46-a036-cf29513552ac",
   "metadata": {},
   "source": [
    "Now crop to star only"
   ]
  },
  {
   "cell_type": "code",
   "execution_count": null,
   "id": "ee31dc6c-89d2-4881-9771-cd5d27842831",
   "metadata": {},
   "outputs": [],
   "source": [
    "width = 51\n",
    "cropped = utils.subarray_2D(z, star_x, star_y, width)\n",
    "plt.imshow(cropped)\n",
    "plt.axhline(width//2-0.5)\n",
    "plt.axvline(width//2-0.5)\n",
    "plt.show()"
   ]
  },
  {
   "cell_type": "code",
   "execution_count": null,
   "id": "89e0aa43-9c68-4197-b4d1-f517baa63a34",
   "metadata": {},
   "outputs": [],
   "source": []
  },
  {
   "cell_type": "code",
   "execution_count": null,
   "id": "faeefb27-d553-46d4-92d1-488417cdc87a",
   "metadata": {},
   "outputs": [],
   "source": []
  }
 ],
 "metadata": {
  "kernelspec": {
   "display_name": "Python 3 (ipykernel)",
   "language": "python",
   "name": "python3"
  },
  "language_info": {
   "codemirror_mode": {
    "name": "ipython",
    "version": 3
   },
   "file_extension": ".py",
   "mimetype": "text/x-python",
   "name": "python",
   "nbconvert_exporter": "python",
   "pygments_lexer": "ipython3",
   "version": "3.10.14"
  }
 },
 "nbformat": 4,
 "nbformat_minor": 5
}
