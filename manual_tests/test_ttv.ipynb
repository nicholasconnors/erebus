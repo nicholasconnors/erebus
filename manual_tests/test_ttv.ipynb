{
 "cells": [
  {
   "cell_type": "code",
   "execution_count": 1,
   "id": "61aafbc4-cbeb-4c93-888b-e66e032ab30e",
   "metadata": {},
   "outputs": [],
   "source": [
    "from erebus.utility.planet import Planet\n",
    "t1b = Planet(\"./trappist1b.yaml\")"
   ]
  },
  {
   "cell_type": "code",
   "execution_count": 2,
   "id": "5f3be58f-c0a7-4655-b1da-5b3344dcb36f",
   "metadata": {},
   "outputs": [
    {
     "name": "stdout",
     "output_type": "stream",
     "text": [
      "../connors_et_al_2025/trappist1b_t0.csv\n",
      "None\n"
     ]
    }
   ],
   "source": [
    "print(t1b.t0_lookup_path)\n",
    "print(t1b.t0)"
   ]
  },
  {
   "cell_type": "code",
   "execution_count": 8,
   "id": "00f76ad2-29bf-4319-ae14-0b9e97956d02",
   "metadata": {},
   "outputs": [
    {
     "name": "stdout",
     "output_type": "stream",
     "text": [
      "59899.58057+/-0.00005\n",
      "59899.58057+/-0.00005\n",
      "59901.09144+/-0.00005\n",
      "59902.60217+/-0.00005\n",
      "61617.4208+/-0.0007\n"
     ]
    }
   ],
   "source": [
    "print(t1b.get_closest_t0(59900))\n",
    "print(t1b.get_closest_t0(59901))\n",
    "print(t1b.get_closest_t0(59902))\n",
    "print(t1b.get_closest_t0(59903))\n",
    "print(t1b.get_closest_t0(62000))"
   ]
  },
  {
   "cell_type": "code",
   "execution_count": 4,
   "id": "247c56e2-3efc-4ca3-863a-ce58c7a19db0",
   "metadata": {},
   "outputs": [],
   "source": [
    "#t1b._yaml.cache"
   ]
  },
  {
   "cell_type": "code",
   "execution_count": 5,
   "id": "dc78d08f-97cf-494e-b5a2-7141e8f59af9",
   "metadata": {},
   "outputs": [],
   "source": [
    "t1b.save(\"test_output/t1b.yaml\")"
   ]
  },
  {
   "cell_type": "code",
   "execution_count": 6,
   "id": "d10701d6-bb48-4346-80a3-1c95c4e7789c",
   "metadata": {},
   "outputs": [],
   "source": [
    "t1b_2 = Planet(\"./test_output/t1b.yaml\")"
   ]
  },
  {
   "cell_type": "code",
   "execution_count": 9,
   "id": "bfb6dee2-7b7c-41c8-ba2b-0a6c78daeec0",
   "metadata": {},
   "outputs": [
    {
     "name": "stdout",
     "output_type": "stream",
     "text": [
      "59899.58057+/-0.00005\n",
      "59899.58057+/-0.00005\n",
      "59901.09144+/-0.00005\n",
      "59902.60217+/-0.00005\n",
      "61617.4208+/-0.0007\n"
     ]
    }
   ],
   "source": [
    "print(t1b_2.get_closest_t0(59900))\n",
    "print(t1b_2.get_closest_t0(59901))\n",
    "print(t1b_2.get_closest_t0(59902))\n",
    "print(t1b_2.get_closest_t0(59903))\n",
    "print(t1b_2.get_closest_t0(62000))"
   ]
  },
  {
   "cell_type": "code",
   "execution_count": null,
   "id": "bd55ef2d-3115-4474-94bd-cb50133aee6d",
   "metadata": {},
   "outputs": [],
   "source": [
    "from erebus.utility import fits_file_utils as f_utils\n",
    "from erebus.wrapped_fits import WrappedFits\n",
    "folder = \"./mast_lhs1478b\"\n",
    "visits = f_utils.get_fits_files_visits_in_folder(folder)\n",
    "fits = WrappedFits(folder, visits[0])\n",
    "print(fits.time)"
   ]
  },
  {
   "cell_type": "code",
   "execution_count": null,
   "id": "0ac04cd6-a74d-4aed-b1b3-d968bb4e755f",
   "metadata": {},
   "outputs": [],
   "source": []
  }
 ],
 "metadata": {
  "kernelspec": {
   "display_name": "Python 3 (ipykernel)",
   "language": "python",
   "name": "python3"
  },
  "language_info": {
   "codemirror_mode": {
    "name": "ipython",
    "version": 3
   },
   "file_extension": ".py",
   "mimetype": "text/x-python",
   "name": "python",
   "nbconvert_exporter": "python",
   "pygments_lexer": "ipython3",
   "version": "3.10.14"
  }
 },
 "nbformat": 4,
 "nbformat_minor": 5
}
