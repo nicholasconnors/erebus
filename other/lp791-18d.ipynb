{
 "cells": [
  {
   "cell_type": "code",
   "execution_count": 4,
   "id": "a2d5d692-8e41-4a87-bec8-44bc444b2c17",
   "metadata": {},
   "outputs": [],
   "source": [
    "import sys\n",
    "import os\n",
    "sys.path.append(os.path.abspath(os.path.dirname(os.getcwd())))\n",
    "\n",
    "from src.utility.h5_serializable_file import H5Serializable\n",
    "import src.utility.utils as utils \n",
    "from uncertainties import ufloat\n",
    "from src.utility.planet import Planet\n",
    "from src.utility.run_cfg import ErebusRunConfig\n",
    "from src.erebus import Erebus\n",
    "from src.joint_fit import JointFit\n",
    "from src.wrapped_fits import WrappedFits\n",
    "from src.photometry_data import PhotometryData\n",
    "from src.individual_fit import IndividualFit\n",
    "from src.utility import fits_file_utils as f_utils\n",
    "import glob"
   ]
  },
  {
   "cell_type": "code",
   "execution_count": 5,
   "id": "b3979fb2-61d4-4e29-9a33-086b89c57c89",
   "metadata": {},
   "outputs": [
    {
     "name": "stdout",
     "output_type": "stream",
     "text": [
      "Loading data from calints in /home/nicho/venus/Research/LP791-18d/JWST\n",
      "Loading 5 segments\n",
      "INT_TIMES format: (1, 60703.10386228107, 60703.10408761937, 60703.10431295768, 60703.1084398925, 60703.10866524615, 60703.108890599804)\n",
      "Loaded segment 1\n",
      "INT_TIMES format: (211, 60703.1992323866, 60703.199457724906, 60703.19968306321, 60703.203816486865, 60703.20404184049, 60703.204267194116)\n",
      "Loaded segment 4\n",
      "INT_TIMES format: (71, 60703.13565231624, 60703.13587765455, 60703.13610299286, 60703.14023209178, 60703.14045744542, 60703.140682799065)\n",
      "Loaded segment 2\n",
      "INT_TIMES format: (141, 60703.16744235142, 60703.16766768973, 60703.16789302804, 60703.172024289895, 60703.17224964354, 60703.17247499717)\n",
      "Loaded segment 3\n",
      "INT_TIMES format: (281, 60703.23102242177, 60703.23124776008, 60703.23147309839, 60703.23560868266, 60703.23583403628, 60703.23605938991)\n",
      "Loaded segment 5\n",
      "Sorting data\n",
      "Found star at: 126, 126\n",
      "Cleaning 298 frames\n",
      "50 pixels were bad out of 16129\n",
      "16079 values were interpolated out of 4806442\n",
      "1852 values were outliers out of 4806442\n"
     ]
    }
   ],
   "source": [
    "folder = \"/home/nicho/venus/Research/LP791-18d/JWST\"\n",
    "visits = f_utils.get_fits_files_visits_in_folder(folder)\n",
    "fits = WrappedFits(folder, visits[0])"
   ]
  },
  {
   "cell_type": "code",
   "execution_count": null,
   "id": "1772a140-a604-4986-9bb5-59e3c9a46a8f",
   "metadata": {},
   "outputs": [],
   "source": []
  }
 ],
 "metadata": {
  "kernelspec": {
   "display_name": "Python 3 (ipykernel)",
   "language": "python",
   "name": "python3"
  },
  "language_info": {
   "codemirror_mode": {
    "name": "ipython",
    "version": 3
   },
   "file_extension": ".py",
   "mimetype": "text/x-python",
   "name": "python",
   "nbconvert_exporter": "python",
   "pygments_lexer": "ipython3",
   "version": "3.10.14"
  }
 },
 "nbformat": 4,
 "nbformat_minor": 5
}
