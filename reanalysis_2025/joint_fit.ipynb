{
 "cells": [
  {
   "cell_type": "code",
   "execution_count": 1,
   "id": "4a0e1c8a-171f-4e7f-acdb-46fd18b54976",
   "metadata": {},
   "outputs": [],
   "source": [
    "import sys\n",
    "import os\n",
    "sys.path.append(os.path.abspath(os.path.dirname(os.getcwd())))\n",
    "\n",
    "from src.utility.h5_serializable_file import H5Serializable\n",
    "import src.utility.utils as utils \n",
    "from uncertainties import ufloat\n",
    "from src.photometry_data import PhotometryData\n",
    "from src.utility.run_cfg import ErebusRunConfig\n",
    "from src.erebus import Erebus\n",
    "from src.utility.utils import bin_data\n",
    "import matplotlib.pyplot as plt\n",
    "import numpy as np"
   ]
  },
  {
   "cell_type": "code",
   "execution_count": 2,
   "id": "61441f8f-51a8-4844-a4df-d8ee5cdbe945",
   "metadata": {},
   "outputs": [],
   "source": [
    "ErebusRunConfig.save_schema(\"../src/schema/run_cfg_schema.json\")"
   ]
  },
  {
   "cell_type": "code",
   "execution_count": 3,
   "id": "5c7d1421-04b8-4eab-94bb-1238b4fe0458",
   "metadata": {},
   "outputs": [
    {
     "name": "stdout",
     "output_type": "stream",
     "text": [
      "Circular orbit: using gaussian prior for t_sec_offset\n"
     ]
    }
   ],
   "source": [
    "lhs1478b = Erebus(ErebusRunConfig.load(\"./run_cfgs/lhs1478b_joint_fit.yaml\"))"
   ]
  },
  {
   "cell_type": "code",
   "execution_count": null,
   "id": "84295fd0-3c79-4cc2-b591-c50a2ad78863",
   "metadata": {},
   "outputs": [
    {
     "name": "stdout",
     "output_type": "stream",
     "text": [
      "Initial guesses: [0.0, 0.0002, 2458786.75425, 0.0462, 16.119, 1.9495378, 87.452, 0.1, 0.1, 0.1, 0.1, 0.1, 0.001, 1e-06, 0.1, 0.1, 0.1, 0.1, 0.1, 0.001, 1e-06, 0.0004] variation: [0.00021000250147319675, 0.000325, 0.00021, 0.00055, 0.047, 2.05e-06, 0.026, 2.475, 2.475, 2.475, 2.475, 2.475, 0.49975, 0.0024997500000000002, 2.475, 2.475, 2.475, 2.475, 2.475, 0.49975, 0.0024997500000000002, 0.0001]\n",
      "Initial likelihood: -20776503368833.97\n",
      "Fitting for 22 parameters\n",
      "Moved away from starting positions\n",
      "Initial guesses shape: (2, 64, 22)\n",
      "Mean likelihood after moving: 9918.909210676273\n",
      "process chain 0\n"
     ]
    },
    {
     "name": "stderr",
     "output_type": "stream",
     "text": [
      "100%|█████████████████████████████████████████████████████████████████████████████| 10000/10000 [06:20<00:00, 26.27it/s]\n"
     ]
    },
    {
     "name": "stdout",
     "output_type": "stream",
     "text": [
      "process chain 1\n"
     ]
    },
    {
     "name": "stderr",
     "output_type": "stream",
     "text": [
      "100%|█████████████████████████████████████████████████████████████████████████████| 10000/10000 [06:51<00:00, 24.29it/s]\n"
     ]
    },
    {
     "name": "stdout",
     "output_type": "stream",
     "text": [
      "The chain is shorter than 50 times the integrated autocorrelation time for 22 parameter(s). Use this estimate with caution and run a longer chain!\n",
      "N/50 = 200;\n",
      "tau: [414.52707628 300.55670473 367.68502925 403.97060961 553.15012749\n",
      " 474.97548215 344.60890613 322.95970688 285.32792067 398.37179833\n",
      " 349.25820078 378.85015423 342.30567671 342.35720855 300.43444531\n",
      " 310.88367087 284.14309666 406.02695025 470.9598023  506.01016926\n",
      " 507.37795906 348.29330988]\n",
      "Rubin gelman convergence: [1.00003271 1.00029296 1.00022545 1.00000419 1.00055708 1.00001917\n",
      " 0.99999919 1.0000595  1.00015878 0.99999844 1.00036502 1.00086208\n",
      " 1.00000101 1.00000071 1.00037937 0.99999844 1.00069615 1.0013596\n",
      " 1.00442507 1.00047792 1.00047458 1.00000635] converged? True\n",
      "Autocorr time: inf converged? False\n",
      "Iterations: 10000 Max steps: 100000\n",
      "Continue looping? True\n",
      "process chain 0\n"
     ]
    },
    {
     "name": "stderr",
     "output_type": "stream",
     "text": [
      " 64%|█████████████████████████████████████████████████▊                            | 6388/10000 [04:12<02:27, 24.55it/s]"
     ]
    }
   ],
   "source": [
    "lhs1478b.run()"
   ]
  },
  {
   "cell_type": "code",
   "execution_count": null,
   "id": "730d56e5-e6a6-4f44-af1d-58a9b916bb09",
   "metadata": {},
   "outputs": [],
   "source": [
    "lhs1478b.joint_fit.starting_times"
   ]
  },
  {
   "cell_type": "code",
   "execution_count": null,
   "id": "506d8a56-75a9-4d48-ab88-01b59aa0a7d3",
   "metadata": {},
   "outputs": [],
   "source": []
  }
 ],
 "metadata": {
  "kernelspec": {
   "display_name": "Python 3 (ipykernel)",
   "language": "python",
   "name": "python3"
  },
  "language_info": {
   "codemirror_mode": {
    "name": "ipython",
    "version": 3
   },
   "file_extension": ".py",
   "mimetype": "text/x-python",
   "name": "python",
   "nbconvert_exporter": "python",
   "pygments_lexer": "ipython3",
   "version": "3.10.14"
  }
 },
 "nbformat": 4,
 "nbformat_minor": 5
}
