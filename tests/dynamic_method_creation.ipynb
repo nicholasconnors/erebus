{
 "cells": [
  {
   "cell_type": "code",
   "execution_count": 23,
   "id": "73ed0fb5-66d1-4cae-ac6e-83697fcbae9b",
   "metadata": {},
   "outputs": [
    {
     "name": "stdout",
     "output_type": "stream",
     "text": [
      "Did it work: ['a', 'b', 'c']\n"
     ]
    }
   ],
   "source": [
    "import inspect\n",
    "from typing import List\n",
    "\n",
    "def dynamic_method(*args):\n",
    "    print(*args)\n",
    "\n",
    "def create_method_signature(method, params : List[str]):\n",
    "\targs = \", \".join(params)\n",
    "\tfunction_def = f\"def func({args}):\\n\\treturn original_function({args})\\n\"\n",
    "\tfunction_code = compile(function_def, \"\", \"exec\")\n",
    "\tfunction_globals = {}\n",
    "\teval(function_code, {\"original_function\": method}, function_globals)\n",
    "\tmethod_with_signature = function_globals[\"func\"]\n",
    "\treturn method_with_signature\n",
    "\n",
    "dynamic_method_with_signature = create_method_signature(dynamic_method, [\"a\", \"b\", \"c\"])\n",
    "method_params = inspect.getfullargspec(dynamic_method_with_signature).args\n",
    "print(\"Did it work:\", method_params)"
   ]
  },
  {
   "cell_type": "code",
   "execution_count": null,
   "id": "60aa3c79-3b8a-4fcf-bbe1-3fa615027cff",
   "metadata": {},
   "outputs": [],
   "source": []
  }
 ],
 "metadata": {
  "kernelspec": {
   "display_name": "Python 3 (ipykernel)",
   "language": "python",
   "name": "python3"
  },
  "language_info": {
   "codemirror_mode": {
    "name": "ipython",
    "version": 3
   },
   "file_extension": ".py",
   "mimetype": "text/x-python",
   "name": "python",
   "nbconvert_exporter": "python",
   "pygments_lexer": "ipython3",
   "version": "3.10.14"
  }
 },
 "nbformat": 4,
 "nbformat_minor": 5
}
