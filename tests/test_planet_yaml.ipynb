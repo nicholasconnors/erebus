{
 "cells": [
  {
   "cell_type": "code",
   "execution_count": 6,
   "id": "55ede8c7-3149-4a1f-8478-af92db810f7d",
   "metadata": {},
   "outputs": [
    {
     "name": "stdout",
     "output_type": "stream",
     "text": [
      "/mnt/c/Users/nicho/Research/GitHub/erebus\n"
     ]
    }
   ],
   "source": [
    "import sys\n",
    "import os\n",
    "directory = os.path.abspath(os.path.dirname(os.getcwd()))\n",
    "print(directory)\n",
    "sys.path.append(directory)\n",
    "\n",
    "from src.utility.planet import Planet"
   ]
  },
  {
   "cell_type": "code",
   "execution_count": 7,
   "id": "0a3a4884-1f83-4c53-bacc-27947d693e4b",
   "metadata": {},
   "outputs": [],
   "source": [
    "Planet.save_schema(\"../src/schema/planet_schema.json\")"
   ]
  },
  {
   "cell_type": "code",
   "execution_count": 8,
   "id": "f0e13774-3a73-4dc3-8eb9-0ee8a2a316fb",
   "metadata": {},
   "outputs": [
    {
     "name": "stdout",
     "output_type": "stream",
     "text": [
      "2459779.210475+/-0.000025\n"
     ]
    }
   ],
   "source": [
    "trappist1b = Planet(\"../reanalysis_2025/planets/trappist1b.yaml\")\n",
    "print(trappist1b.t0)"
   ]
  },
  {
   "cell_type": "code",
   "execution_count": null,
   "id": "1bd5a6db-af0a-4400-87cb-cbf3ac938357",
   "metadata": {},
   "outputs": [],
   "source": []
  }
 ],
 "metadata": {
  "kernelspec": {
   "display_name": "Python 3 (ipykernel)",
   "language": "python",
   "name": "python3"
  },
  "language_info": {
   "codemirror_mode": {
    "name": "ipython",
    "version": 3
   },
   "file_extension": ".py",
   "mimetype": "text/x-python",
   "name": "python",
   "nbconvert_exporter": "python",
   "pygments_lexer": "ipython3",
   "version": "3.10.14"
  }
 },
 "nbformat": 4,
 "nbformat_minor": 5
}
