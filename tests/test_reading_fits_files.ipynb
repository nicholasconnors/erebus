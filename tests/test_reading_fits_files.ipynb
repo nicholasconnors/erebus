{
 "cells": [
  {
   "cell_type": "code",
   "execution_count": 1,
   "id": "6191c21b-01be-4b32-8890-dec945a7d41a",
   "metadata": {},
   "outputs": [],
   "source": [
    "import sys\n",
    "import os\n",
    "sys.path.append(os.path.abspath(os.path.dirname(os.getcwd())))\n",
    "\n",
    "from src import fits_file_utils as f_utils"
   ]
  },
  {
   "cell_type": "code",
   "execution_count": 2,
   "id": "53c339b3-9c24-4c12-98fa-2ee77c7f1793",
   "metadata": {},
   "outputs": [
    {
     "name": "stdout",
     "output_type": "stream",
     "text": [
      "['jw01177007001' 'jw01177008001' 'jw01177009001' 'jw01177010001'\n",
      " 'jw01177011001']\n"
     ]
    }
   ],
   "source": [
    "folder = \"/home/nicho/venus/Research/TRAPPIST-1B/JWST\"\n",
    "\n",
    "visits = f_utils.get_fits_files_visits_in_folder(folder)\n",
    "print(visits)"
   ]
  },
  {
   "cell_type": "code",
   "execution_count": null,
   "id": "daf7db91-1cbf-4316-9175-0befa76f1e31",
   "metadata": {},
   "outputs": [
    {
     "name": "stdout",
     "output_type": "stream",
     "text": [
      "Loading data from calints in /home/nicho/venus/Research/TRAPPIST-1B/JWST\n",
      "Loading 10 segments\n",
      "INT_TIMES format: (121, 59891.19995116742, 59891.20017600233, 59891.20040083723, 59891.20358839264, 59891.20381320766, 59891.2040380227)\n",
      "Loaded segment 4/10\n",
      "INT_TIMES format: (1, 59891.14213647715, 59891.14236131206, 59891.14258614697, 59891.14577881154, 59891.14600362658, 59891.14622844163)\n",
      "Loaded segment 1/10\n",
      "INT_TIMES format: (361, 59891.315580547955, 59891.31580538286, 59891.316030217764, 59891.319207546236, 59891.31943236125, 59891.31965717625)\n",
      "Loaded segment 10/10\n",
      "INT_TIMES format: (81, 59891.180679604, 59891.18090443891, 59891.18112927381, 59891.184318532585, 59891.18454334763, 59891.18476816266)\n",
      "Loaded segment 3/10\n",
      "INT_TIMES format: (41, 59891.16140804058, 59891.16163287548, 59891.16185771039, 59891.16504867222, 59891.16527348726, 59891.165498302296)\n",
      "Loaded segment 2/10\n",
      "INT_TIMES format: (241, 59891.257765857685, 59891.2579906926, 59891.2582155275, 59891.26139797086, 59891.26162278589, 59891.26184760091)\n",
      "Loaded segment 7/10\n",
      "INT_TIMES format: (281, 59891.27703742111, 59891.277262256015, 59891.27748709092, 59891.28066782964, 59891.28089264466, 59891.28111745967)\n"
     ]
    }
   ],
   "source": [
    "frames, time = f_utils.load_all_calints_for_visit(folder, visits[0])"
   ]
  },
  {
   "cell_type": "code",
   "execution_count": null,
   "id": "2ceafa8d-a0e7-48ef-af8b-b3bb90b395de",
   "metadata": {},
   "outputs": [],
   "source": []
  }
 ],
 "metadata": {
  "kernelspec": {
   "display_name": "Python 3 (ipykernel)",
   "language": "python",
   "name": "python3"
  },
  "language_info": {
   "codemirror_mode": {
    "name": "ipython",
    "version": 3
   },
   "file_extension": ".py",
   "mimetype": "text/x-python",
   "name": "python",
   "nbconvert_exporter": "python",
   "pygments_lexer": "ipython3",
   "version": "3.10.14"
  }
 },
 "nbformat": 4,
 "nbformat_minor": 5
}
