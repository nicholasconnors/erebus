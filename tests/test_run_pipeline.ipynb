{
 "cells": [
  {
   "cell_type": "code",
   "execution_count": 2,
   "id": "70118aca-dae4-4663-a564-1e23c60c5f9c",
   "metadata": {},
   "outputs": [],
   "source": [
    "import sys\n",
    "import os\n",
    "sys.path.append(os.path.abspath(os.path.dirname(os.getcwd())))\n",
    "\n",
    "from src.utility.h5_serializable_file import H5Serializable\n",
    "import src.utility.utils as utils \n",
    "from uncertainties import ufloat\n",
    "from src.photometry_data import PhotometryData\n",
    "from src.utility.run_cfg import ErebusRunConfig\n",
    "from src.erebus import Erebus\n",
    "#from src.frame_normalized_pca import perform_fnpca"
   ]
  },
  {
   "cell_type": "code",
   "execution_count": 3,
   "id": "f82532e3-48f1-41fe-a7c2-b5279e7cbf07",
   "metadata": {},
   "outputs": [],
   "source": [
    "ErebusRunConfig.save_schema(\"../src/schema/run_cfg_schema.json\")\n",
    "lhs1478b = ErebusRunConfig.load(\"./lhs1478b_test.yaml\")"
   ]
  },
  {
   "cell_type": "code",
   "execution_count": 4,
   "id": "7afe7995-5d1a-4106-897c-1491fe7043bd",
   "metadata": {},
   "outputs": [
    {
     "name": "stdout",
     "output_type": "stream",
     "text": [
      "Circular orbit: using gaussian prior for t_sec\n",
      "Visit jw03730012001 wasn't run yet\n",
      "Circular orbit: using gaussian prior for t_sec\n",
      "Visit jw03730013001 wasn't run yet\n"
     ]
    }
   ],
   "source": [
    "erebus = Erebus(lhs1478b, force_clear_cache = False)"
   ]
  },
  {
   "cell_type": "code",
   "execution_count": 5,
   "id": "172024a9-cd70-49d7-a115-2414f8facbf5",
   "metadata": {},
   "outputs": [
    {
     "ename": "AttributeError",
     "evalue": "'Erebus' object has no attribute 'results'",
     "output_type": "error",
     "traceback": [
      "\u001b[0;31m---------------------------------------------------------------------------\u001b[0m",
      "\u001b[0;31mAttributeError\u001b[0m                            Traceback (most recent call last)",
      "Cell \u001b[0;32mIn[5], line 3\u001b[0m\n\u001b[1;32m      1\u001b[0m \u001b[38;5;28;01mimport\u001b[39;00m \u001b[38;5;21;01mnumpy\u001b[39;00m \u001b[38;5;28;01mas\u001b[39;00m \u001b[38;5;21;01mnp\u001b[39;00m\n\u001b[1;32m      2\u001b[0m \u001b[38;5;28;01mimport\u001b[39;00m \u001b[38;5;21;01mmatplotlib\u001b[39;00m\u001b[38;5;21;01m.\u001b[39;00m\u001b[38;5;21;01mpyplot\u001b[39;00m \u001b[38;5;28;01mas\u001b[39;00m \u001b[38;5;21;01mplt\u001b[39;00m\n\u001b[0;32m----> 3\u001b[0m fit \u001b[38;5;241m=\u001b[39m \u001b[43merebus\u001b[49m\u001b[38;5;241;43m.\u001b[39;49m\u001b[43mresults\u001b[49m[\u001b[38;5;241m1\u001b[39m]\n\u001b[1;32m      4\u001b[0m mcmc \u001b[38;5;241m=\u001b[39m fit\u001b[38;5;241m.\u001b[39mmcmc\n\u001b[1;32m      5\u001b[0m initial_guess \u001b[38;5;241m=\u001b[39m np\u001b[38;5;241m.\u001b[39marray([mcmc\u001b[38;5;241m.\u001b[39mparams[p]\u001b[38;5;241m.\u001b[39mvalue \u001b[38;5;28;01mfor\u001b[39;00m p \u001b[38;5;129;01min\u001b[39;00m mcmc\u001b[38;5;241m.\u001b[39mparams])[:\u001b[38;5;241m-\u001b[39m\u001b[38;5;241m1\u001b[39m]\n",
      "\u001b[0;31mAttributeError\u001b[0m: 'Erebus' object has no attribute 'results'"
     ]
    }
   ],
   "source": [
    "import numpy as np\n",
    "import matplotlib.pyplot as plt\n",
    "fit = erebus.results[1]\n",
    "mcmc = fit.mcmc\n",
    "initial_guess = np.array([mcmc.params[p].value for p in mcmc.params])[:-1]\n",
    "print(initial_guess)\n",
    "\n",
    "t = fit.time\n",
    "f = fit.raw_flux\n",
    "f_model = fit.fit_method(t, *initial_guess)\n",
    "plt.plot(t, f_model, label='model', zorder=3)\n",
    "plt.plot(t, f, label='data')\n",
    "plt.legend()\n",
    "plt.show()"
   ]
  },
  {
   "cell_type": "code",
   "execution_count": null,
   "id": "a063eec9-ce5c-493c-bd5e-3d4f973623ad",
   "metadata": {},
   "outputs": [],
   "source": [
    "for i in range(0, 5):\n",
    "\tplt.plot(t, erebus.results[0].eigenvalues[i])\n",
    "\tplt.show()\n",
    "\tplt.imshow(erebus.results[0].eigenvectors[i])\n",
    "\tplt.show()"
   ]
  },
  {
   "cell_type": "code",
   "execution_count": null,
   "id": "3cc97420-d819-4af3-a249-10922c854006",
   "metadata": {},
   "outputs": [],
   "source": [
    "erebus.run()"
   ]
  },
  {
   "cell_type": "code",
   "execution_count": null,
   "id": "18a209a4-1d24-43b0-ae6d-de1d3353a572",
   "metadata": {},
   "outputs": [],
   "source": [
    "fit = erebus.results[1]\n",
    "\n",
    "res = fit.results\n",
    "res_nominal_values = [res[k].nominal_value for k in res][:-1]\n",
    "physical_params = res_nominal_values[:9]\n",
    "systematic_params = res_nominal_values[9:]\n",
    "\n",
    "t = fit.time\n",
    "f = fit.raw_flux\n",
    "f_model = fit.fit_method(t, *res_nominal_values)\n",
    "plt.plot(t, f_model, label='model', zorder=3)\n",
    "plt.plot(t, f, linestyle='', marker='.', label='data')\n",
    "plt.legend()\n",
    "plt.show()\n",
    "\n",
    "f_systematic = fit.systematic_model(t, *systematic_params)\n",
    "plt.plot(t, f_model / f_systematic, label='model', zorder=3)\n",
    "plt.plot(t, f / f_systematic, linestyle='', marker='.', label='data')\n",
    "plt.legend()\n",
    "plt.show()\n",
    "\n",
    "print(res['fp']*1e6)\n"
   ]
  },
  {
   "cell_type": "code",
   "execution_count": null,
   "id": "4cc219af-3bbc-4aab-baf7-3a6b982ba44c",
   "metadata": {},
   "outputs": [],
   "source": []
  },
  {
   "cell_type": "code",
   "execution_count": null,
   "id": "08e2413d-501c-4d39-a20b-07b0e2d81ce7",
   "metadata": {},
   "outputs": [],
   "source": []
  },
  {
   "cell_type": "code",
   "execution_count": null,
   "id": "8d8bc345-603c-4cf3-99c9-6ccbade30fb1",
   "metadata": {},
   "outputs": [],
   "source": []
  }
 ],
 "metadata": {
  "kernelspec": {
   "display_name": "Python 3 (ipykernel)",
   "language": "python",
   "name": "python3"
  },
  "language_info": {
   "codemirror_mode": {
    "name": "ipython",
    "version": 3
   },
   "file_extension": ".py",
   "mimetype": "text/x-python",
   "name": "python",
   "nbconvert_exporter": "python",
   "pygments_lexer": "ipython3",
   "version": "3.10.14"
  }
 },
 "nbformat": 4,
 "nbformat_minor": 5
}
