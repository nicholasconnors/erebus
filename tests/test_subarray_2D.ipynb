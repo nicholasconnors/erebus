{
 "cells": [
  {
   "cell_type": "code",
   "execution_count": 1,
   "id": "0df40fcc-e132-4e2b-b125-d6c198e23832",
   "metadata": {},
   "outputs": [],
   "source": [
    "import sys\n",
    "import os\n",
    "sys.path.append(os.path.abspath(os.path.dirname(os.getcwd())))\n",
    "\n",
    "from src import utils"
   ]
  },
  {
   "cell_type": "code",
   "execution_count": 3,
   "id": "aa99b9cc-1171-4470-a96c-23262beba834",
   "metadata": {},
   "outputs": [
    {
     "name": "stdout",
     "output_type": "stream",
     "text": [
      "[[1 2 3]\n",
      " [4 5 6]\n",
      " [7 8 9]\n",
      " [1 2 3]]\n"
     ]
    }
   ],
   "source": [
    "import numpy as np\n",
    "array = np.array([[1, 2, 3], [4, 5, 6], [7, 8, 9], [1, 2, 3]])\n",
    "print(array)"
   ]
  },
  {
   "cell_type": "code",
   "execution_count": 4,
   "id": "83b326a3-5908-42ca-b853-462a0d58ff5a",
   "metadata": {},
   "outputs": [
    {
     "name": "stdout",
     "output_type": "stream",
     "text": [
      "[[0 0 0]\n",
      " [0 1 2]\n",
      " [0 4 5]]\n"
     ]
    }
   ],
   "source": [
    "print(utils.subarray_2D(array, 0, 0, 3))"
   ]
  },
  {
   "cell_type": "code",
   "execution_count": 5,
   "id": "b6cba739-f4f4-429a-93a7-cb518a49a7ea",
   "metadata": {},
   "outputs": [
    {
     "name": "stdout",
     "output_type": "stream",
     "text": [
      "[[0 0 0 0 0]\n",
      " [0 1 2 3 0]\n",
      " [0 4 5 6 0]\n",
      " [0 7 8 9 0]\n",
      " [0 1 2 3 0]]\n"
     ]
    }
   ],
   "source": [
    "print(utils.subarray_2D(array, 1, 1, 5))"
   ]
  }
 ],
 "metadata": {
  "kernelspec": {
   "display_name": "Python 3 (ipykernel)",
   "language": "python",
   "name": "python3"
  },
  "language_info": {
   "codemirror_mode": {
    "name": "ipython",
    "version": 3
   },
   "file_extension": ".py",
   "mimetype": "text/x-python",
   "name": "python",
   "nbconvert_exporter": "python",
   "pygments_lexer": "ipython3",
   "version": "3.10.14"
  }
 },
 "nbformat": 4,
 "nbformat_minor": 5
}
